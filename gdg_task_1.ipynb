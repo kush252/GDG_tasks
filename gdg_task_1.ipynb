{
 "cells": [
  {
   "cell_type": "markdown",
   "id": "8ad3258a",
   "metadata": {},
   "source": [
    "# A) Pushpa: The Red Sandalwood Stash!"
   ]
  },
  {
   "cell_type": "code",
   "execution_count": 133,
   "id": "cfd11c71",
   "metadata": {},
   "outputs": [
    {
     "name": "stdout",
     "output_type": "stream",
     "text": [
      "[[1, 1, 1], [0, 1, 1], [1, 1, 0]]\n"
     ]
    },
    {
     "data": {
      "text/plain": [
       "7"
      ]
     },
     "execution_count": 133,
     "metadata": {},
     "output_type": "execute_result"
    }
   ],
   "source": [
    "# mat=[]\n",
    "# for i in range(5):\n",
    "#     row = list(map(int, input().split()))\n",
    "#     mat.append(row)\n",
    "\n",
    "# print(mat)\n",
    "# m=int(input(\"Enter m: \"))\n",
    "# c,r=input(\"Enter centre: \").split()\n",
    "# c=int(c)\n",
    "# r=int(r)\n",
    "\n",
    "mat=[\n",
    "    [1,0,0,0,1],\n",
    "[1,0,1,1,1],\n",
    "[1,1,0,1,1],\n",
    "[1,0,1,1,0],\n",
    "[0,1,0,1,1]\n",
    "]\n",
    "m = 3\n",
    "c,r = (3,2)\n",
    "\n",
    "zone=[]\n",
    "    \n",
    "if m%2!=0:\n",
    "    for i in range(r-((m-1)//2),(r+((m-1)//2))+1):\n",
    "        row=[]\n",
    "        for j in range(c-((m-1)//2),(c+((m-1)//2))+1):\n",
    "            row.append(mat[i][j])\n",
    "\n",
    "        zone.append(row)\n",
    "else:\n",
    "    for i in range(r-((m-1)//2),(r+((m-1)//2))+2):\n",
    "        row=[]\n",
    "        for j in range(c-((m-1)//2),(c+((m-1)//2))+2):\n",
    "            row.append(mat[i][j])\n",
    "\n",
    "        zone.append(row)\n",
    "\n",
    "print(zone)\n",
    "sum(sum(row) for row in zone)\n"
   ]
  },
  {
   "cell_type": "markdown",
   "id": "e5e871ae",
   "metadata": {},
   "source": [
    "# IPL Dream Team Challenge!"
   ]
  },
  {
   "cell_type": "code",
   "execution_count": 134,
   "id": "d72de8c4",
   "metadata": {},
   "outputs": [],
   "source": [
    "squad={\n",
    "    \"Virat_Kohli\":{\"Strengths\":[\"Chase_master\", \"fast_bowling_destroyer\", \"fielding\"],\n",
    "                   \"Weakness\":[\"left_arm_spin\"]},\n",
    "    \"Rahul\":{\"Strengths\":[\"opener\", \"power_play\", \"wicketkeeping\"],\n",
    "                   \"Weakness\":[\"pressure\", \"death_bowling\"]},\n",
    "    \"Bumrah\":{\"Strengths\":[\"death_bowling\", \"yorkers\", \"economy\"],\n",
    "                   \"Weakness\":[\"batting\"]},\n",
    "    \"Jadeja\":{\"Strengths\":[\"power_hitting\", \"off_spin\", \"fielding\"],\n",
    "                   \"Weakness\":[]},\n",
    "    \"Maxwell\":{\"Strengths\":[\"spin_bowling\", \"fielding\", \"finisher\"],\n",
    "                   \"Weakness\":[\"pace_bounce\", \"consistency\"]},\n",
    "    \"siraj\":{\"Strengths\":[\"swing_bowling\", \"new_ball\"],\n",
    "                   \"Weakness\":[\"batting\"]},\n",
    "    \"Shreyas\":{\"Strengths\":[\"middle_order\", \"spin_hitter\"],\n",
    "                   \"Weakness\":[\"express_pace\", \"short_ball\"]},\n",
    "    \"Chahal\":{\"Strengths\":[\"leg_spin\", \"wicket_taker\"],\n",
    "                   \"Weakness\":[\"fielding\", \"batting\", \"expensive\"]},\n",
    "    \"DK\":{\"Strengths\":[\"finisher\", \"wicketkeeping\", \"experience\"],\n",
    "                   \"Weakness\":[\"poor_wicketkeeping\"]},\n",
    "    \"Faf\":{\"Strengths\":[\"opener\", \"experience\", \"fielding\"],\n",
    "                   \"Weakness\":[\"slow_starter\"]}\n",
    "}"
   ]
  },
  {
   "cell_type": "code",
   "execution_count": 135,
   "id": "4e411046",
   "metadata": {},
   "outputs": [],
   "source": [
    "def generate_combinations(arr, k, start=0, current=[], result=[]):\n",
    "    if len(current) == k:\n",
    "        result.append(current.copy())\n",
    "        return\n",
    "    for i in range(start, len(arr)):\n",
    "        current.append(arr[i])\n",
    "        generate_combinations(arr, k, i + 1, current, result)\n",
    "        current.pop()\n",
    "    return result\n"
   ]
  },
  {
   "cell_type": "code",
   "execution_count": 136,
   "id": "52aa621d",
   "metadata": {},
   "outputs": [],
   "source": [
    "def score_and_besteam(names,squad):\n",
    "    strengths=[]\n",
    "    weaknesses=[]\n",
    "    for i in range(len(names)):\n",
    "        strengths_for_comb=set()\n",
    "        weaknesses_for_comb=set()\n",
    "        for j in range((len(names[i]))):\n",
    "            st_we=squad[names[i][j]]\n",
    "            strength=st_we[\"Strengths\"]\n",
    "            strengths_for_comb.update(strength)\n",
    "\n",
    "            weak_we=squad[names[i][j]]\n",
    "            weakness=weak_we[\"Weakness\"]\n",
    "            weaknesses_for_comb.update(weakness)\n",
    "        strengths.append(strengths_for_comb)\n",
    "        weaknesses.append(weaknesses_for_comb)\n",
    "    return strengths,weaknesses"
   ]
  },
  {
   "cell_type": "code",
   "execution_count": 137,
   "id": "9e1a05fa",
   "metadata": {},
   "outputs": [],
   "source": [
    "number_of_members=int(input(\"Enter Number of members\"))\n",
    "name_list=list(squad.keys())\n",
    "comb=generate_combinations(name_list,number_of_members)"
   ]
  },
  {
   "cell_type": "code",
   "execution_count": 138,
   "id": "60f1dc82",
   "metadata": {},
   "outputs": [
    {
     "name": "stdout",
     "output_type": "stream",
     "text": [
      "Best Team:\n",
      "Virat_Kohli\n",
      "Bumrah\n",
      "Jadeja\n",
      "siraj\n",
      "Faf\n",
      "Score of the best team : 24\n"
     ]
    }
   ],
   "source": [
    "strengths_list,weakness_list=score_and_besteam(comb,squad)\n",
    "bonus_strengths = {\"death_bowling\", \"Chase_master\", \"opener\"}\n",
    "bonus_weakness = {\"pressure\", \"poor_wicketkeeping\"}\n",
    "\n",
    "\n",
    "score_for_each_team=[]\n",
    "for i in range(len(comb)):\n",
    "    score=len(strengths_list[i])-len(weakness_list[i])\n",
    "    score += 5 * len(strengths_list[i] & bonus_strengths)\n",
    "    score -= 2 * len(weakness_list[i] & bonus_weakness)\n",
    "\n",
    "    score_for_each_team.append(score)\n",
    "\n",
    "highest=max(score_for_each_team)\n",
    "best=score_for_each_team.index(highest)\n",
    "\n",
    "print(\"Best Team:\")\n",
    "for player in comb[best]:\n",
    "    print(player)\n",
    "print(f\"Score of the best team : {highest}\")"
   ]
  },
  {
   "cell_type": "code",
   "execution_count": null,
   "id": "c15be695",
   "metadata": {},
   "outputs": [],
   "source": []
  },
  {
   "cell_type": "code",
   "execution_count": null,
   "id": "8b9e57a4",
   "metadata": {},
   "outputs": [],
   "source": []
  }
 ],
 "metadata": {
  "kernelspec": {
   "display_name": "Python 3",
   "language": "python",
   "name": "python3"
  },
  "language_info": {
   "codemirror_mode": {
    "name": "ipython",
    "version": 3
   },
   "file_extension": ".py",
   "mimetype": "text/x-python",
   "name": "python",
   "nbconvert_exporter": "python",
   "pygments_lexer": "ipython3",
   "version": "3.11.9"
  }
 },
 "nbformat": 4,
 "nbformat_minor": 5
}

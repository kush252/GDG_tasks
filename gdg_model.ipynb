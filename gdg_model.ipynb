{
 "cells": [
  {
   "cell_type": "code",
   "execution_count": 1701,
   "id": "f05e2cf9",
   "metadata": {},
   "outputs": [],
   "source": [
    "import pandas as pd \n",
    "import numpy as np\n",
    "import random\n",
    "\n",
    "from category_encoders import TargetEncoder\n",
    "from sklearn.preprocessing import StandardScaler\n",
    "\n",
    "import xgboost as xgb\n",
    "from sklearn.ensemble import RandomForestClassifier\n",
    "from sklearn.tree import DecisionTreeClassifier\n",
    "from sklearn.linear_model import LogisticRegression\n",
    "\n",
    "\n",
    "import matplotlib.pyplot as plt\n",
    "import seaborn as sns\n",
    "from sklearn.metrics import f1_score"
   ]
  },
  {
   "cell_type": "code",
   "execution_count": 1702,
   "id": "d16ab209",
   "metadata": {},
   "outputs": [],
   "source": [
    "df=pd.read_csv(\"Proc_f1_data.csv\")"
   ]
  },
  {
   "cell_type": "code",
   "execution_count": 1703,
   "id": "54ba6845",
   "metadata": {},
   "outputs": [
    {
     "data": {
      "application/vnd.microsoft.datawrangler.viewer.v0+json": {
       "columns": [
        {
         "name": "index",
         "rawType": "int64",
         "type": "integer"
        },
        {
         "name": "resultId",
         "rawType": "int64",
         "type": "integer"
        },
        {
         "name": "raceId",
         "rawType": "int64",
         "type": "integer"
        },
        {
         "name": "year",
         "rawType": "int64",
         "type": "integer"
        },
        {
         "name": "round",
         "rawType": "int64",
         "type": "integer"
        },
        {
         "name": "grid",
         "rawType": "int64",
         "type": "integer"
        },
        {
         "name": "positionOrder",
         "rawType": "int64",
         "type": "integer"
        },
        {
         "name": "points",
         "rawType": "float64",
         "type": "float"
        },
        {
         "name": "laps",
         "rawType": "float64",
         "type": "float"
        },
        {
         "name": "milliseconds",
         "rawType": "float64",
         "type": "float"
        },
        {
         "name": "fastestLapTime",
         "rawType": "object",
         "type": "unknown"
        },
        {
         "name": "fastestLapSpeed",
         "rawType": "float64",
         "type": "float"
        },
        {
         "name": "driverRef",
         "rawType": "object",
         "type": "string"
        },
        {
         "name": "surname",
         "rawType": "object",
         "type": "string"
        },
        {
         "name": "forename",
         "rawType": "object",
         "type": "string"
        },
        {
         "name": "dob",
         "rawType": "object",
         "type": "string"
        },
        {
         "name": "nationality_x",
         "rawType": "object",
         "type": "string"
        },
        {
         "name": "constructorRef",
         "rawType": "object",
         "type": "string"
        },
        {
         "name": "name",
         "rawType": "object",
         "type": "string"
        },
        {
         "name": "nationality_y",
         "rawType": "object",
         "type": "string"
        },
        {
         "name": "circuitRef",
         "rawType": "object",
         "type": "string"
        },
        {
         "name": "circuitId",
         "rawType": "int64",
         "type": "integer"
        },
        {
         "name": "name_y",
         "rawType": "object",
         "type": "string"
        },
        {
         "name": "location",
         "rawType": "object",
         "type": "string"
        },
        {
         "name": "country",
         "rawType": "object",
         "type": "string"
        },
        {
         "name": "lat",
         "rawType": "float64",
         "type": "float"
        },
        {
         "name": "lng",
         "rawType": "float64",
         "type": "float"
        },
        {
         "name": "alt",
         "rawType": "int64",
         "type": "integer"
        },
        {
         "name": "date",
         "rawType": "object",
         "type": "string"
        },
        {
         "name": "target_finish",
         "rawType": "int64",
         "type": "integer"
        },
        {
         "name": "fastestLapTime_ms",
         "rawType": "float64",
         "type": "float"
        }
       ],
       "ref": "523a03df-1abb-45c4-9930-cd673b874884",
       "rows": [
        [
         "0",
         "2460",
         "136",
         "2002",
         "13",
         "11",
         "4",
         "3.0",
         "77.0",
         null,
         null,
         null,
         "raikkonen",
         "Räikkönen",
         "Kimi",
         "1979-10-17",
         "Finnish",
         "mclaren",
         "Hungaroring",
         "British",
         "hungaroring",
         "11",
         "McLaren",
         "Budapest",
         "Hungary",
         "47.5789",
         "19.2486",
         "264",
         "2002-08-18",
         "1",
         null
        ],
        [
         "1",
         "11565",
         "483",
         "1981",
         "1",
         "23",
         "21",
         "0.0",
         "16.0",
         "0.0",
         null,
         null,
         "watson",
         "Watson",
         "John",
         "1946-05-04",
         "British",
         "mclaren",
         "Long Beach",
         "British",
         "long_beach",
         "43",
         "McLaren",
         "California",
         "USA",
         "33.7651",
         "-118.189",
         "12",
         "1981-03-15",
         "0",
         null
        ],
        [
         "2",
         "18661",
         "772",
         "1958",
         "8",
         "0",
         "26",
         "0.0",
         "0.0",
         "0.0",
         "0",
         "0.0",
         "ruttman",
         "Ruttman",
         "Troy",
         "1930-03-11",
         "American",
         "maserati",
         "Nürburgring",
         "Italian",
         "nurburgring",
         "20",
         "Maserati",
         "Nürburg",
         "Germany",
         "50.3356",
         "6.9475",
         "578",
         "1958-08-03",
         "0",
         "0.0"
        ],
        [
         "3",
         "25121",
         "1058",
         "2021",
         "8",
         "19",
         "16",
         "0.0",
         "69.0",
         "0.0",
         "1:10.005",
         "222.052",
         "mick_schumacher",
         "Schumacher",
         "Mick",
         "1999-03-22",
         "German",
         "haas",
         "Red Bull Ring",
         "American",
         "red_bull_ring",
         "70",
         "Haas F1 Team",
         "Spielberg",
         "Austria",
         "47.2197",
         "14.7647",
         "678",
         "2021-06-27",
         "0",
         "70005.0"
        ],
        [
         "4",
         "8863",
         "383",
         "1988",
         "12",
         "0",
         "30",
         "0.0",
         "0.0",
         "0.0",
         "0",
         "0.0",
         "modena",
         "Modena",
         "Stefano",
         "1963-05-12",
         "Italian",
         "eurobrun",
         "Autodromo Nazionale di Monza",
         "Italian",
         "monza",
         "14",
         "Euro Brun",
         "Monza",
         "Italy",
         "45.6156",
         "9.28111",
         "162",
         "1988-09-11",
         "0",
         "0.0"
        ]
       ],
       "shape": {
        "columns": 30,
        "rows": 5
       }
      },
      "text/html": [
       "<div>\n",
       "<style scoped>\n",
       "    .dataframe tbody tr th:only-of-type {\n",
       "        vertical-align: middle;\n",
       "    }\n",
       "\n",
       "    .dataframe tbody tr th {\n",
       "        vertical-align: top;\n",
       "    }\n",
       "\n",
       "    .dataframe thead th {\n",
       "        text-align: right;\n",
       "    }\n",
       "</style>\n",
       "<table border=\"1\" class=\"dataframe\">\n",
       "  <thead>\n",
       "    <tr style=\"text-align: right;\">\n",
       "      <th></th>\n",
       "      <th>resultId</th>\n",
       "      <th>raceId</th>\n",
       "      <th>year</th>\n",
       "      <th>round</th>\n",
       "      <th>grid</th>\n",
       "      <th>positionOrder</th>\n",
       "      <th>points</th>\n",
       "      <th>laps</th>\n",
       "      <th>milliseconds</th>\n",
       "      <th>fastestLapTime</th>\n",
       "      <th>...</th>\n",
       "      <th>circuitId</th>\n",
       "      <th>name_y</th>\n",
       "      <th>location</th>\n",
       "      <th>country</th>\n",
       "      <th>lat</th>\n",
       "      <th>lng</th>\n",
       "      <th>alt</th>\n",
       "      <th>date</th>\n",
       "      <th>target_finish</th>\n",
       "      <th>fastestLapTime_ms</th>\n",
       "    </tr>\n",
       "  </thead>\n",
       "  <tbody>\n",
       "    <tr>\n",
       "      <th>0</th>\n",
       "      <td>2460</td>\n",
       "      <td>136</td>\n",
       "      <td>2002</td>\n",
       "      <td>13</td>\n",
       "      <td>11</td>\n",
       "      <td>4</td>\n",
       "      <td>3.0</td>\n",
       "      <td>77.0</td>\n",
       "      <td>NaN</td>\n",
       "      <td>NaN</td>\n",
       "      <td>...</td>\n",
       "      <td>11</td>\n",
       "      <td>McLaren</td>\n",
       "      <td>Budapest</td>\n",
       "      <td>Hungary</td>\n",
       "      <td>47.5789</td>\n",
       "      <td>19.24860</td>\n",
       "      <td>264</td>\n",
       "      <td>2002-08-18</td>\n",
       "      <td>1</td>\n",
       "      <td>NaN</td>\n",
       "    </tr>\n",
       "    <tr>\n",
       "      <th>1</th>\n",
       "      <td>11565</td>\n",
       "      <td>483</td>\n",
       "      <td>1981</td>\n",
       "      <td>1</td>\n",
       "      <td>23</td>\n",
       "      <td>21</td>\n",
       "      <td>0.0</td>\n",
       "      <td>16.0</td>\n",
       "      <td>0.0</td>\n",
       "      <td>NaN</td>\n",
       "      <td>...</td>\n",
       "      <td>43</td>\n",
       "      <td>McLaren</td>\n",
       "      <td>California</td>\n",
       "      <td>USA</td>\n",
       "      <td>33.7651</td>\n",
       "      <td>-118.18900</td>\n",
       "      <td>12</td>\n",
       "      <td>1981-03-15</td>\n",
       "      <td>0</td>\n",
       "      <td>NaN</td>\n",
       "    </tr>\n",
       "    <tr>\n",
       "      <th>2</th>\n",
       "      <td>18661</td>\n",
       "      <td>772</td>\n",
       "      <td>1958</td>\n",
       "      <td>8</td>\n",
       "      <td>0</td>\n",
       "      <td>26</td>\n",
       "      <td>0.0</td>\n",
       "      <td>0.0</td>\n",
       "      <td>0.0</td>\n",
       "      <td>0</td>\n",
       "      <td>...</td>\n",
       "      <td>20</td>\n",
       "      <td>Maserati</td>\n",
       "      <td>Nürburg</td>\n",
       "      <td>Germany</td>\n",
       "      <td>50.3356</td>\n",
       "      <td>6.94750</td>\n",
       "      <td>578</td>\n",
       "      <td>1958-08-03</td>\n",
       "      <td>0</td>\n",
       "      <td>0.0</td>\n",
       "    </tr>\n",
       "    <tr>\n",
       "      <th>3</th>\n",
       "      <td>25121</td>\n",
       "      <td>1058</td>\n",
       "      <td>2021</td>\n",
       "      <td>8</td>\n",
       "      <td>19</td>\n",
       "      <td>16</td>\n",
       "      <td>0.0</td>\n",
       "      <td>69.0</td>\n",
       "      <td>0.0</td>\n",
       "      <td>1:10.005</td>\n",
       "      <td>...</td>\n",
       "      <td>70</td>\n",
       "      <td>Haas F1 Team</td>\n",
       "      <td>Spielberg</td>\n",
       "      <td>Austria</td>\n",
       "      <td>47.2197</td>\n",
       "      <td>14.76470</td>\n",
       "      <td>678</td>\n",
       "      <td>2021-06-27</td>\n",
       "      <td>0</td>\n",
       "      <td>70005.0</td>\n",
       "    </tr>\n",
       "    <tr>\n",
       "      <th>4</th>\n",
       "      <td>8863</td>\n",
       "      <td>383</td>\n",
       "      <td>1988</td>\n",
       "      <td>12</td>\n",
       "      <td>0</td>\n",
       "      <td>30</td>\n",
       "      <td>0.0</td>\n",
       "      <td>0.0</td>\n",
       "      <td>0.0</td>\n",
       "      <td>0</td>\n",
       "      <td>...</td>\n",
       "      <td>14</td>\n",
       "      <td>Euro Brun</td>\n",
       "      <td>Monza</td>\n",
       "      <td>Italy</td>\n",
       "      <td>45.6156</td>\n",
       "      <td>9.28111</td>\n",
       "      <td>162</td>\n",
       "      <td>1988-09-11</td>\n",
       "      <td>0</td>\n",
       "      <td>0.0</td>\n",
       "    </tr>\n",
       "  </tbody>\n",
       "</table>\n",
       "<p>5 rows × 30 columns</p>\n",
       "</div>"
      ],
      "text/plain": [
       "   resultId  raceId  year  round  grid  positionOrder  points  laps  \\\n",
       "0      2460     136  2002     13    11              4     3.0  77.0   \n",
       "1     11565     483  1981      1    23             21     0.0  16.0   \n",
       "2     18661     772  1958      8     0             26     0.0   0.0   \n",
       "3     25121    1058  2021      8    19             16     0.0  69.0   \n",
       "4      8863     383  1988     12     0             30     0.0   0.0   \n",
       "\n",
       "   milliseconds fastestLapTime  ...  circuitId        name_y    location  \\\n",
       "0           NaN            NaN  ...         11       McLaren    Budapest   \n",
       "1           0.0            NaN  ...         43       McLaren  California   \n",
       "2           0.0              0  ...         20      Maserati     Nürburg   \n",
       "3           0.0       1:10.005  ...         70  Haas F1 Team   Spielberg   \n",
       "4           0.0              0  ...         14     Euro Brun       Monza   \n",
       "\n",
       "   country      lat        lng  alt        date target_finish  \\\n",
       "0  Hungary  47.5789   19.24860  264  2002-08-18             1   \n",
       "1      USA  33.7651 -118.18900   12  1981-03-15             0   \n",
       "2  Germany  50.3356    6.94750  578  1958-08-03             0   \n",
       "3  Austria  47.2197   14.76470  678  2021-06-27             0   \n",
       "4    Italy  45.6156    9.28111  162  1988-09-11             0   \n",
       "\n",
       "  fastestLapTime_ms  \n",
       "0               NaN  \n",
       "1               NaN  \n",
       "2               0.0  \n",
       "3           70005.0  \n",
       "4               0.0  \n",
       "\n",
       "[5 rows x 30 columns]"
      ]
     },
     "execution_count": 1703,
     "metadata": {},
     "output_type": "execute_result"
    }
   ],
   "source": [
    "df.head()"
   ]
  },
  {
   "cell_type": "code",
   "execution_count": 1704,
   "id": "f08d0af2",
   "metadata": {},
   "outputs": [],
   "source": [
    "df_imp=df[['year','grid','milliseconds','laps','points','positionOrder','fastestLapTime','fastestLapSpeed','fastestLapTime_ms','driverRef','constructorRef','circuitId','target_finish']]"
   ]
  },
  {
   "cell_type": "code",
   "execution_count": 1705,
   "id": "3a66acc9",
   "metadata": {},
   "outputs": [
    {
     "data": {
      "application/vnd.microsoft.datawrangler.viewer.v0+json": {
       "columns": [
        {
         "name": "index",
         "rawType": "int64",
         "type": "integer"
        },
        {
         "name": "year",
         "rawType": "int64",
         "type": "integer"
        },
        {
         "name": "grid",
         "rawType": "int64",
         "type": "integer"
        },
        {
         "name": "milliseconds",
         "rawType": "float64",
         "type": "float"
        },
        {
         "name": "laps",
         "rawType": "float64",
         "type": "float"
        },
        {
         "name": "points",
         "rawType": "float64",
         "type": "float"
        },
        {
         "name": "positionOrder",
         "rawType": "int64",
         "type": "integer"
        },
        {
         "name": "fastestLapTime",
         "rawType": "object",
         "type": "unknown"
        },
        {
         "name": "fastestLapSpeed",
         "rawType": "float64",
         "type": "float"
        },
        {
         "name": "fastestLapTime_ms",
         "rawType": "float64",
         "type": "float"
        },
        {
         "name": "driverRef",
         "rawType": "object",
         "type": "string"
        },
        {
         "name": "constructorRef",
         "rawType": "object",
         "type": "string"
        },
        {
         "name": "circuitId",
         "rawType": "int64",
         "type": "integer"
        },
        {
         "name": "target_finish",
         "rawType": "int64",
         "type": "integer"
        }
       ],
       "ref": "95be12bd-b13d-4e96-85f8-92c08e79fca0",
       "rows": [
        [
         "0",
         "2002",
         "11",
         null,
         "77.0",
         "3.0",
         "4",
         null,
         null,
         null,
         "raikkonen",
         "mclaren",
         "11",
         "1"
        ],
        [
         "1",
         "1981",
         "23",
         "0.0",
         "16.0",
         "0.0",
         "21",
         null,
         null,
         null,
         "watson",
         "mclaren",
         "43",
         "0"
        ],
        [
         "2",
         "1958",
         "0",
         "0.0",
         "0.0",
         "0.0",
         "26",
         "0",
         "0.0",
         "0.0",
         "ruttman",
         "maserati",
         "20",
         "0"
        ],
        [
         "3",
         "2021",
         "19",
         "0.0",
         "69.0",
         "0.0",
         "16",
         "1:10.005",
         "222.052",
         "70005.0",
         "mick_schumacher",
         "haas",
         "70",
         "0"
        ],
        [
         "4",
         "1988",
         "0",
         "0.0",
         "0.0",
         "0.0",
         "30",
         "0",
         "0.0",
         "0.0",
         "modena",
         "eurobrun",
         "14",
         "0"
        ],
        [
         "5",
         "2019",
         "5",
         "0.0",
         "77.0",
         "0.0",
         "14",
         "1:16.992",
         "156.031",
         "76992.0",
         "kevin_magnussen",
         "haas",
         "6",
         "0"
        ],
        [
         "6",
         "1975",
         "5",
         "0.0",
         "9.0",
         "0.0",
         "18",
         null,
         null,
         null,
         "mario_andretti",
         "parnelli",
         "46",
         "0"
        ],
        [
         "7",
         "2013",
         "16",
         "4754232.0",
         "53.0",
         "0.0",
         "13",
         "1:27.092",
         "239.457",
         "87092.0",
         "gutierrez",
         "sauber",
         "14",
         "1"
        ],
        [
         "8",
         "2015",
         "1",
         "5513145.0",
         "70.0",
         "25.0",
         "1",
         "1:17.472",
         "202.648",
         "77472.0",
         "hamilton",
         "mercedes",
         "7",
         "1"
        ],
        [
         "9",
         "1960",
         "2",
         "0.0",
         "79.0",
         "1.0",
         "6",
         null,
         null,
         null,
         "ireland",
         "team_lotus",
         "25",
         "0"
        ],
        [
         "10",
         "1994",
         "9",
         "6523887.0",
         "81.0",
         "4.0",
         "3",
         null,
         null,
         null,
         "brundle",
         "mclaren",
         "29",
         "1"
        ],
        [
         "11",
         "1995",
         "15",
         "0.0",
         "51.0",
         "0.0",
         "10",
         null,
         null,
         null,
         "wendlinger",
         "sauber",
         "22",
         "0"
        ],
        [
         "12",
         "1989",
         "0",
         "0.0",
         "0.0",
         "0.0",
         "31",
         "0",
         "0.0",
         "0.0",
         "johansson",
         "onyx",
         "29",
         "0"
        ],
        [
         "13",
         "1991",
         "14",
         "0.0",
         "75.0",
         "0.0",
         "10",
         null,
         null,
         null,
         "gachot",
         "jordan",
         "33",
         "0"
        ],
        [
         "14",
         "2012",
         "16",
         "0.0",
         "55.0",
         "0.0",
         "14",
         "1:40.315",
         "197.844",
         "100315.0",
         "kobayashi",
         "sauber",
         "69",
         "0"
        ],
        [
         "15",
         "1989",
         "18",
         "0.0",
         null,
         "0.0",
         "11",
         null,
         null,
         null,
         "cesaris",
         "dallara",
         "13",
         "0"
        ],
        [
         "16",
         "1983",
         "22",
         "0.0",
         "0.0",
         "0.0",
         "26",
         "0",
         "0.0",
         "0.0",
         "jarier",
         "ligier",
         "38",
         "0"
        ],
        [
         "17",
         "2024",
         "2",
         "5300227.0",
         "66.0",
         "25.0",
         "1",
         "1:17.776",
         "215.557",
         "77776.0",
         "max_verstappen",
         "red_bull",
         "4",
         "1"
        ],
        [
         "18",
         "1974",
         "12",
         "6243700.0",
         "75.0",
         "4.0",
         "3",
         null,
         null,
         null,
         "ickx",
         "team_lotus",
         "38",
         "1"
        ],
        [
         "19",
         "2010",
         "17",
         "0.0",
         null,
         "0.0",
         "24",
         null,
         null,
         null,
         "alguersuari",
         "toro_rosso",
         "11",
         "0"
        ],
        [
         "20",
         "1981",
         "21",
         "0.0",
         "67.0",
         "1.0",
         "6",
         null,
         null,
         null,
         "borgudd",
         "ats",
         "9",
         "0"
        ],
        [
         "21",
         "1976",
         "13",
         "0.0",
         "51.0",
         "0.0",
         "17",
         null,
         null,
         null,
         "watson",
         "penske",
         "45",
         "0"
        ],
        [
         "22",
         "1984",
         "19",
         "0.0",
         "26.0",
         "0.0",
         "22",
         null,
         null,
         null,
         "cecotto",
         "toleman",
         "30",
         "0"
        ],
        [
         "23",
         "1990",
         "0",
         "0.0",
         "0.0",
         "0.0",
         "31",
         "0",
         "0.0",
         "0.0",
         "moreno",
         "eurobrun",
         "27",
         "0"
        ],
        [
         "24",
         "1981",
         "11",
         "0.0",
         "27.0",
         "0.0",
         "20",
         null,
         null,
         null,
         "tambay",
         "ligier",
         "10",
         "0"
        ],
        [
         "25",
         "2000",
         "17",
         "0.0",
         "32.0",
         "0.0",
         "19",
         null,
         null,
         null,
         "alesi",
         "prost",
         "13",
         "0"
        ],
        [
         "26",
         "1979",
         "26",
         "0.0",
         "66.0",
         "0.0",
         "9",
         null,
         null,
         null,
         "rebaque",
         "team_lotus",
         "9",
         "0"
        ],
        [
         "27",
         "1982",
         "1",
         "0.0",
         "44.0",
         "0.0",
         "8",
         null,
         null,
         null,
         "arnoux",
         "renault",
         "21",
         "0"
        ],
        [
         "28",
         "1994",
         "23",
         "0.0",
         "69.0",
         "0.0",
         "14",
         null,
         null,
         null,
         "dalmas",
         "larrousse",
         "27",
         "0"
        ],
        [
         "29",
         "1950",
         "1",
         "0.0",
         "32.0",
         "0.0",
         "12",
         null,
         null,
         null,
         "fangio",
         "alfa",
         "66",
         "0"
        ],
        [
         "30",
         "1972",
         "13",
         "6918000.0",
         "38.0",
         "0.0",
         "9",
         null,
         null,
         null,
         "redman",
         "mclaren",
         "51",
         "1"
        ],
        [
         "31",
         "1991",
         "1",
         null,
         "78.0",
         "10.0",
         "1",
         null,
         null,
         null,
         "senna",
         "mclaren",
         "6",
         "1"
        ],
        [
         "32",
         "2014",
         "13",
         "0.0",
         null,
         "0.0",
         "11",
         "1:19.491",
         null,
         "79491.0",
         "perez",
         "force_india",
         "7",
         "0"
        ],
        [
         "33",
         "1994",
         "18",
         "0.0",
         "75.0",
         "0.0",
         "10",
         null,
         null,
         null,
         "bernard",
         "ligier",
         "11",
         "0"
        ],
        [
         "34",
         "1987",
         "23",
         "0.0",
         "58.0",
         "0.0",
         "12",
         null,
         null,
         null,
         "capelli",
         "march",
         "29",
         "0"
        ],
        [
         "35",
         "1979",
         "5",
         "0.0",
         "8.0",
         "0.0",
         "21",
         null,
         null,
         null,
         "laffite",
         "ligier",
         "43",
         "0"
        ],
        [
         "36",
         "2018",
         "18",
         "0.0",
         "68.0",
         "0.0",
         "16",
         "1:21.370",
         "190.419",
         "81370.0",
         "grosjean",
         "haas",
         "32",
         "0"
        ],
        [
         "37",
         "1970",
         "24",
         "0.0",
         "13.0",
         "0.0",
         "21",
         null,
         null,
         null,
         "moser",
         "bellasi",
         "70",
         "0"
        ],
        [
         "38",
         "1962",
         "3",
         "9989700.0",
         "100.0",
         "9.0",
         "1",
         null,
         null,
         null,
         "mclaren",
         "cooper-climax",
         "6",
         "1"
        ],
        [
         "39",
         "1986",
         "7",
         "0.0",
         null,
         "0.0",
         "19",
         null,
         null,
         null,
         "keke_rosberg",
         "mclaren",
         "27",
         "0"
        ],
        [
         "40",
         "1959",
         "22",
         "0.0",
         "34.0",
         "0.0",
         "32",
         null,
         null,
         null,
         "sutton",
         "lesovsky",
         "19",
         "0"
        ],
        [
         "41",
         "1982",
         "4",
         "0.0",
         "70.0",
         "0.0",
         "10",
         null,
         null,
         null,
         "lauda",
         "mclaren",
         "40",
         "0"
        ],
        [
         "42",
         "1984",
         "6",
         "0.0",
         "0.0",
         "0.0",
         "19",
         "0",
         "0.0",
         "0.0",
         "tambay",
         "renault",
         "6",
         "0"
        ],
        [
         "43",
         "2000",
         "1",
         "5251638.0",
         null,
         "10.0",
         "1",
         null,
         null,
         null,
         "michael_schumacher",
         "ferrari",
         "14",
         "1"
        ],
        [
         "44",
         "1960",
         "4",
         "0.0",
         "79.0",
         "0.0",
         "7",
         null,
         null,
         null,
         "bonnier",
         "brm",
         "25",
         "0"
        ],
        [
         "45",
         "1987",
         "21",
         "0.0",
         "56.0",
         "0.0",
         "10",
         null,
         null,
         null,
         "alliot",
         "larrousse",
         "21",
         "0"
        ],
        [
         "46",
         "2005",
         "5",
         "5363101.0",
         "71.0",
         null,
         "2",
         "1:12.268",
         "214.651",
         "72268.0",
         "raikkonen",
         "mclaren",
         "18",
         "1"
        ],
        [
         "47",
         "1989",
         "26",
         "0.0",
         "27.0",
         "0.0",
         "24",
         null,
         null,
         null,
         "caffi",
         "dallara",
         "34",
         "0"
        ],
        [
         "48",
         "1981",
         "14",
         "0.0",
         "9.0",
         "0.0",
         "24",
         null,
         null,
         null,
         "cesaris",
         "mclaren",
         "45",
         "0"
        ],
        [
         "49",
         "2001",
         "22",
         "0.0",
         "7.0",
         "0.0",
         "19",
         null,
         null,
         null,
         "alonso",
         "minardi",
         "7",
         "0"
        ]
       ],
       "shape": {
        "columns": 13,
        "rows": 10000
       }
      },
      "text/html": [
       "<div>\n",
       "<style scoped>\n",
       "    .dataframe tbody tr th:only-of-type {\n",
       "        vertical-align: middle;\n",
       "    }\n",
       "\n",
       "    .dataframe tbody tr th {\n",
       "        vertical-align: top;\n",
       "    }\n",
       "\n",
       "    .dataframe thead th {\n",
       "        text-align: right;\n",
       "    }\n",
       "</style>\n",
       "<table border=\"1\" class=\"dataframe\">\n",
       "  <thead>\n",
       "    <tr style=\"text-align: right;\">\n",
       "      <th></th>\n",
       "      <th>year</th>\n",
       "      <th>grid</th>\n",
       "      <th>milliseconds</th>\n",
       "      <th>laps</th>\n",
       "      <th>points</th>\n",
       "      <th>positionOrder</th>\n",
       "      <th>fastestLapTime</th>\n",
       "      <th>fastestLapSpeed</th>\n",
       "      <th>fastestLapTime_ms</th>\n",
       "      <th>driverRef</th>\n",
       "      <th>constructorRef</th>\n",
       "      <th>circuitId</th>\n",
       "      <th>target_finish</th>\n",
       "    </tr>\n",
       "  </thead>\n",
       "  <tbody>\n",
       "    <tr>\n",
       "      <th>0</th>\n",
       "      <td>2002</td>\n",
       "      <td>11</td>\n",
       "      <td>NaN</td>\n",
       "      <td>77.0</td>\n",
       "      <td>3.0</td>\n",
       "      <td>4</td>\n",
       "      <td>NaN</td>\n",
       "      <td>NaN</td>\n",
       "      <td>NaN</td>\n",
       "      <td>raikkonen</td>\n",
       "      <td>mclaren</td>\n",
       "      <td>11</td>\n",
       "      <td>1</td>\n",
       "    </tr>\n",
       "    <tr>\n",
       "      <th>1</th>\n",
       "      <td>1981</td>\n",
       "      <td>23</td>\n",
       "      <td>0.0</td>\n",
       "      <td>16.0</td>\n",
       "      <td>0.0</td>\n",
       "      <td>21</td>\n",
       "      <td>NaN</td>\n",
       "      <td>NaN</td>\n",
       "      <td>NaN</td>\n",
       "      <td>watson</td>\n",
       "      <td>mclaren</td>\n",
       "      <td>43</td>\n",
       "      <td>0</td>\n",
       "    </tr>\n",
       "    <tr>\n",
       "      <th>2</th>\n",
       "      <td>1958</td>\n",
       "      <td>0</td>\n",
       "      <td>0.0</td>\n",
       "      <td>0.0</td>\n",
       "      <td>0.0</td>\n",
       "      <td>26</td>\n",
       "      <td>0</td>\n",
       "      <td>0.000</td>\n",
       "      <td>0.0</td>\n",
       "      <td>ruttman</td>\n",
       "      <td>maserati</td>\n",
       "      <td>20</td>\n",
       "      <td>0</td>\n",
       "    </tr>\n",
       "    <tr>\n",
       "      <th>3</th>\n",
       "      <td>2021</td>\n",
       "      <td>19</td>\n",
       "      <td>0.0</td>\n",
       "      <td>69.0</td>\n",
       "      <td>0.0</td>\n",
       "      <td>16</td>\n",
       "      <td>1:10.005</td>\n",
       "      <td>222.052</td>\n",
       "      <td>70005.0</td>\n",
       "      <td>mick_schumacher</td>\n",
       "      <td>haas</td>\n",
       "      <td>70</td>\n",
       "      <td>0</td>\n",
       "    </tr>\n",
       "    <tr>\n",
       "      <th>4</th>\n",
       "      <td>1988</td>\n",
       "      <td>0</td>\n",
       "      <td>0.0</td>\n",
       "      <td>0.0</td>\n",
       "      <td>0.0</td>\n",
       "      <td>30</td>\n",
       "      <td>0</td>\n",
       "      <td>0.000</td>\n",
       "      <td>0.0</td>\n",
       "      <td>modena</td>\n",
       "      <td>eurobrun</td>\n",
       "      <td>14</td>\n",
       "      <td>0</td>\n",
       "    </tr>\n",
       "    <tr>\n",
       "      <th>...</th>\n",
       "      <td>...</td>\n",
       "      <td>...</td>\n",
       "      <td>...</td>\n",
       "      <td>...</td>\n",
       "      <td>...</td>\n",
       "      <td>...</td>\n",
       "      <td>...</td>\n",
       "      <td>...</td>\n",
       "      <td>...</td>\n",
       "      <td>...</td>\n",
       "      <td>...</td>\n",
       "      <td>...</td>\n",
       "      <td>...</td>\n",
       "    </tr>\n",
       "    <tr>\n",
       "      <th>9995</th>\n",
       "      <td>2006</td>\n",
       "      <td>22</td>\n",
       "      <td>0.0</td>\n",
       "      <td>70.0</td>\n",
       "      <td>0.0</td>\n",
       "      <td>12</td>\n",
       "      <td>1:13.700</td>\n",
       "      <td>210.480</td>\n",
       "      <td>73700.0</td>\n",
       "      <td>doornbos</td>\n",
       "      <td>red_bull</td>\n",
       "      <td>18</td>\n",
       "      <td>0</td>\n",
       "    </tr>\n",
       "    <tr>\n",
       "      <th>9996</th>\n",
       "      <td>2006</td>\n",
       "      <td>16</td>\n",
       "      <td>5719770.0</td>\n",
       "      <td>57.0</td>\n",
       "      <td>2.0</td>\n",
       "      <td>7</td>\n",
       "      <td>1:27.690</td>\n",
       "      <td>217.707</td>\n",
       "      <td>87690.0</td>\n",
       "      <td>barrichello</td>\n",
       "      <td>honda</td>\n",
       "      <td>1</td>\n",
       "      <td>1</td>\n",
       "    </tr>\n",
       "    <tr>\n",
       "      <th>9997</th>\n",
       "      <td>2016</td>\n",
       "      <td>16</td>\n",
       "      <td>0.0</td>\n",
       "      <td>49.0</td>\n",
       "      <td>0.0</td>\n",
       "      <td>17</td>\n",
       "      <td>1:37.619</td>\n",
       "      <td>217.248</td>\n",
       "      <td>97619.0</td>\n",
       "      <td>kevin_magnussen</td>\n",
       "      <td>renault</td>\n",
       "      <td>9</td>\n",
       "      <td>0</td>\n",
       "    </tr>\n",
       "    <tr>\n",
       "      <th>9998</th>\n",
       "      <td>1980</td>\n",
       "      <td>0</td>\n",
       "      <td>0.0</td>\n",
       "      <td>0.0</td>\n",
       "      <td>0.0</td>\n",
       "      <td>25</td>\n",
       "      <td>0</td>\n",
       "      <td>0.000</td>\n",
       "      <td>0.0</td>\n",
       "      <td>kennedy</td>\n",
       "      <td>shadow</td>\n",
       "      <td>43</td>\n",
       "      <td>0</td>\n",
       "    </tr>\n",
       "    <tr>\n",
       "      <th>9999</th>\n",
       "      <td>1976</td>\n",
       "      <td>0</td>\n",
       "      <td>0.0</td>\n",
       "      <td>NaN</td>\n",
       "      <td>0.0</td>\n",
       "      <td>26</td>\n",
       "      <td>NaN</td>\n",
       "      <td>NaN</td>\n",
       "      <td>NaN</td>\n",
       "      <td>amon</td>\n",
       "      <td>wolf</td>\n",
       "      <td>48</td>\n",
       "      <td>0</td>\n",
       "    </tr>\n",
       "  </tbody>\n",
       "</table>\n",
       "<p>10000 rows × 13 columns</p>\n",
       "</div>"
      ],
      "text/plain": [
       "      year  grid  milliseconds  laps  points  positionOrder fastestLapTime  \\\n",
       "0     2002    11           NaN  77.0     3.0              4            NaN   \n",
       "1     1981    23           0.0  16.0     0.0             21            NaN   \n",
       "2     1958     0           0.0   0.0     0.0             26              0   \n",
       "3     2021    19           0.0  69.0     0.0             16       1:10.005   \n",
       "4     1988     0           0.0   0.0     0.0             30              0   \n",
       "...    ...   ...           ...   ...     ...            ...            ...   \n",
       "9995  2006    22           0.0  70.0     0.0             12       1:13.700   \n",
       "9996  2006    16     5719770.0  57.0     2.0              7       1:27.690   \n",
       "9997  2016    16           0.0  49.0     0.0             17       1:37.619   \n",
       "9998  1980     0           0.0   0.0     0.0             25              0   \n",
       "9999  1976     0           0.0   NaN     0.0             26            NaN   \n",
       "\n",
       "      fastestLapSpeed  fastestLapTime_ms        driverRef constructorRef  \\\n",
       "0                 NaN                NaN        raikkonen        mclaren   \n",
       "1                 NaN                NaN           watson        mclaren   \n",
       "2               0.000                0.0          ruttman       maserati   \n",
       "3             222.052            70005.0  mick_schumacher           haas   \n",
       "4               0.000                0.0           modena       eurobrun   \n",
       "...               ...                ...              ...            ...   \n",
       "9995          210.480            73700.0         doornbos       red_bull   \n",
       "9996          217.707            87690.0      barrichello          honda   \n",
       "9997          217.248            97619.0  kevin_magnussen        renault   \n",
       "9998            0.000                0.0          kennedy         shadow   \n",
       "9999              NaN                NaN             amon           wolf   \n",
       "\n",
       "      circuitId  target_finish  \n",
       "0            11              1  \n",
       "1            43              0  \n",
       "2            20              0  \n",
       "3            70              0  \n",
       "4            14              0  \n",
       "...         ...            ...  \n",
       "9995         18              0  \n",
       "9996          1              1  \n",
       "9997          9              0  \n",
       "9998         43              0  \n",
       "9999         48              0  \n",
       "\n",
       "[10000 rows x 13 columns]"
      ]
     },
     "execution_count": 1705,
     "metadata": {},
     "output_type": "execute_result"
    }
   ],
   "source": [
    "df_imp"
   ]
  },
  {
   "cell_type": "code",
   "execution_count": 1706,
   "id": "9b11b835",
   "metadata": {},
   "outputs": [
    {
     "name": "stdout",
     "output_type": "stream",
     "text": [
      "<class 'pandas.core.frame.DataFrame'>\n",
      "RangeIndex: 10000 entries, 0 to 9999\n",
      "Data columns (total 13 columns):\n",
      " #   Column             Non-Null Count  Dtype  \n",
      "---  ------             --------------  -----  \n",
      " 0   year               10000 non-null  int64  \n",
      " 1   grid               10000 non-null  int64  \n",
      " 2   milliseconds       9710 non-null   float64\n",
      " 3   laps               9022 non-null   float64\n",
      " 4   points             9586 non-null   float64\n",
      " 5   positionOrder      10000 non-null  int64  \n",
      " 6   fastestLapTime     3919 non-null   object \n",
      " 7   fastestLapSpeed    3623 non-null   float64\n",
      " 8   fastestLapTime_ms  3919 non-null   float64\n",
      " 9   driverRef          10000 non-null  object \n",
      " 10  constructorRef     10000 non-null  object \n",
      " 11  circuitId          10000 non-null  int64  \n",
      " 12  target_finish      10000 non-null  int64  \n",
      "dtypes: float64(5), int64(5), object(3)\n",
      "memory usage: 1015.8+ KB\n"
     ]
    }
   ],
   "source": [
    "df_imp.info()"
   ]
  },
  {
   "cell_type": "markdown",
   "id": "1a88337a",
   "metadata": {},
   "source": [
    "# Train Test Split"
   ]
  },
  {
   "cell_type": "code",
   "execution_count": 1707,
   "id": "8a707d92",
   "metadata": {},
   "outputs": [],
   "source": [
    "X=df_imp[['year','grid','laps','driverRef','constructorRef','circuitId','fastestLapTime_ms','fastestLapSpeed']]\n",
    "y=df_imp['target_finish']"
   ]
  },
  {
   "cell_type": "code",
   "execution_count": 1708,
   "id": "f8fd9908",
   "metadata": {},
   "outputs": [],
   "source": [
    "X_linear_regression=df_imp[['year','grid','laps','driverRef','constructorRef','circuitId','fastestLapSpeed','fastestLapTime_ms']].dropna()\n",
    "y_linear_regression=df_imp['target_finish'].dropna()"
   ]
  },
  {
   "cell_type": "code",
   "execution_count": 1709,
   "id": "7fc81a8e",
   "metadata": {},
   "outputs": [],
   "source": [
    "def tr_te_split(X, y, test_size=0.2, random_state=42):\n",
    "    random.seed(random_state)\n",
    "    n = len(X)\n",
    "    test_count = int(n * test_size)\n",
    "\n",
    "    indices = list(range(n))\n",
    "    random.shuffle(indices)\n",
    "\n",
    "    test_indices = indices[:test_count]\n",
    "    train_indices = indices[test_count:]\n",
    "\n",
    "    X_train = X.iloc[train_indices].reset_index(drop=True)\n",
    "    X_test  = X.iloc[test_indices].reset_index(drop=True)\n",
    "    y_train = y.iloc[train_indices].reset_index(drop=True)\n",
    "    y_test  = y.iloc[test_indices].reset_index(drop=True)\n",
    "\n",
    "    return X_train, X_test, y_train, y_test\n"
   ]
  },
  {
   "cell_type": "code",
   "execution_count": 1710,
   "id": "cc137249",
   "metadata": {},
   "outputs": [],
   "source": [
    "X_train, X_test, y_train, y_test = tr_te_split(X, y, test_size=0.2, random_state=42)\n",
    "X_train_lin, X_test_lin, y_train_lin, y_test_lin = tr_te_split(X_linear_regression, y_linear_regression, test_size=0.2, random_state=42)\n"
   ]
  },
  {
   "cell_type": "markdown",
   "id": "18471e03",
   "metadata": {},
   "source": [
    "# Preprocessing"
   ]
  },
  {
   "cell_type": "markdown",
   "id": "63fd793f",
   "metadata": {},
   "source": [
    "### Target Encoding"
   ]
  },
  {
   "cell_type": "code",
   "execution_count": 1711,
   "id": "a8d3e5fe",
   "metadata": {},
   "outputs": [],
   "source": [
    "encoder = TargetEncoder(cols=['driverRef', 'constructorRef','circuitId'])\n",
    "X_train_encoded = encoder.fit_transform(X_train, y_train)\n",
    "X_test_encoded = encoder.transform(X_test)"
   ]
  },
  {
   "cell_type": "code",
   "execution_count": 1712,
   "id": "ad6fe198",
   "metadata": {},
   "outputs": [],
   "source": [
    "X_train_encoded = X_train_encoded.astype(float)\n",
    "X_test_encoded = X_test_encoded.astype(float)\n"
   ]
  },
  {
   "cell_type": "code",
   "execution_count": 1713,
   "id": "efdb8696",
   "metadata": {},
   "outputs": [
    {
     "name": "stdout",
     "output_type": "stream",
     "text": [
      "<class 'pandas.core.frame.DataFrame'>\n",
      "RangeIndex: 8000 entries, 0 to 7999\n",
      "Data columns (total 8 columns):\n",
      " #   Column             Non-Null Count  Dtype  \n",
      "---  ------             --------------  -----  \n",
      " 0   year               8000 non-null   float64\n",
      " 1   grid               8000 non-null   float64\n",
      " 2   laps               7218 non-null   float64\n",
      " 3   driverRef          8000 non-null   float64\n",
      " 4   constructorRef     8000 non-null   float64\n",
      " 5   circuitId          8000 non-null   float64\n",
      " 6   fastestLapTime_ms  3142 non-null   float64\n",
      " 7   fastestLapSpeed    2902 non-null   float64\n",
      "dtypes: float64(8)\n",
      "memory usage: 500.1 KB\n"
     ]
    }
   ],
   "source": [
    "X_train_encoded.info()"
   ]
  },
  {
   "cell_type": "markdown",
   "id": "f789292e",
   "metadata": {},
   "source": [
    "### Encoding for Linear_reg"
   ]
  },
  {
   "cell_type": "code",
   "execution_count": 1714,
   "id": "69ef1a8f",
   "metadata": {},
   "outputs": [
    {
     "name": "stdout",
     "output_type": "stream",
     "text": [
      "<class 'pandas.core.frame.DataFrame'>\n",
      "RangeIndex: 2696 entries, 0 to 2695\n",
      "Data columns (total 8 columns):\n",
      " #   Column             Non-Null Count  Dtype  \n",
      "---  ------             --------------  -----  \n",
      " 0   year               2696 non-null   float64\n",
      " 1   grid               2696 non-null   float64\n",
      " 2   laps               2696 non-null   float64\n",
      " 3   driverRef          2696 non-null   float64\n",
      " 4   constructorRef     2696 non-null   float64\n",
      " 5   circuitId          2696 non-null   float64\n",
      " 6   fastestLapSpeed    2696 non-null   float64\n",
      " 7   fastestLapTime_ms  2696 non-null   float64\n",
      "dtypes: float64(8)\n",
      "memory usage: 168.6 KB\n"
     ]
    }
   ],
   "source": [
    "encoder = TargetEncoder(cols=['driverRef', 'constructorRef','circuitId'])\n",
    "X_train_encoded_lin = encoder.fit_transform(X_train_lin, y_train_lin)\n",
    "X_test_encoded_lin = encoder.transform(X_test_lin)\n",
    "X_train_encoded_lin = X_train_encoded_lin.astype(float)\n",
    "X_test_encoded_lin = X_test_encoded_lin.astype(float)\n",
    "X_train_encoded_lin = X_train_encoded_lin.replace([None], np.nan)\n",
    "X_test_encoded_lin = X_test_encoded_lin.replace([None], np.nan)\n",
    "\n",
    "X_train_encoded_lin.info()"
   ]
  },
  {
   "cell_type": "markdown",
   "id": "838cf037",
   "metadata": {},
   "source": [
    "### Scaling for Linear_reg"
   ]
  },
  {
   "cell_type": "code",
   "execution_count": 1715,
   "id": "6e0548c9",
   "metadata": {},
   "outputs": [],
   "source": [
    "numerical_features = ['year', 'grid','laps','fastestLapSpeed','fastestLapTime_ms']\n",
    "\n",
    "scaler = StandardScaler()\n",
    "X_train_encoded_scaled_lin=X_train_encoded_lin\n",
    "X_test_encoded_scaled_lin=X_test_encoded_lin\n",
    "\n",
    "X_train_encoded_scaled_lin[numerical_features] = scaler.fit_transform(X_train_encoded_lin[numerical_features])\n",
    "\n",
    "X_test_encoded_scaled_lin[numerical_features] = scaler.transform(X_test_encoded_lin[numerical_features])\n",
    "\n"
   ]
  },
  {
   "cell_type": "markdown",
   "id": "965305b4",
   "metadata": {},
   "source": [
    "# Model Training"
   ]
  },
  {
   "cell_type": "markdown",
   "id": "674db11d",
   "metadata": {},
   "source": [
    "### Logistic Regression"
   ]
  },
  {
   "cell_type": "code",
   "execution_count": 1716,
   "id": "8a61cfe5",
   "metadata": {},
   "outputs": [
    {
     "data": {
      "application/vnd.microsoft.datawrangler.viewer.v0+json": {
       "columns": [
        {
         "name": "target_finish",
         "rawType": "int64",
         "type": "integer"
        },
        {
         "name": "proportion",
         "rawType": "float64",
         "type": "float"
        }
       ],
       "ref": "9294ed00-7366-4fd7-994a-870e42efe116",
       "rows": [
        [
         "0",
         "0.7105"
        ],
        [
         "1",
         "0.2895"
        ]
       ],
       "shape": {
        "columns": 1,
        "rows": 2
       }
      },
      "text/plain": [
       "target_finish\n",
       "0    0.7105\n",
       "1    0.2895\n",
       "Name: proportion, dtype: float64"
      ]
     },
     "execution_count": 1716,
     "metadata": {},
     "output_type": "execute_result"
    }
   ],
   "source": [
    "y.value_counts(normalize=True)\n"
   ]
  },
  {
   "cell_type": "code",
   "execution_count": 1717,
   "id": "96930ac4",
   "metadata": {},
   "outputs": [],
   "source": [
    "from imblearn.over_sampling import SMOTE\n",
    "smote = SMOTE(random_state=42)\n",
    "X_train_encoded_lin_res, y_train_lin_res = smote.fit_resample(X_train_encoded_lin, y_train_lin)\n"
   ]
  },
  {
   "cell_type": "code",
   "execution_count": 1718,
   "id": "ccf282f5",
   "metadata": {},
   "outputs": [],
   "source": [
    "log_model = LogisticRegression(max_iter=1000, random_state=42,class_weight='balanced')\n",
    "log_model.fit(X_train_encoded_lin_res, y_train_lin_res)\n",
    "\n",
    "y_pred_log = log_model.predict(X_test_encoded_lin)"
   ]
  },
  {
   "cell_type": "markdown",
   "id": "7afb6820",
   "metadata": {},
   "source": [
    "### Decision Tree Classifier"
   ]
  },
  {
   "cell_type": "code",
   "execution_count": 1719,
   "id": "fce7e751",
   "metadata": {},
   "outputs": [],
   "source": [
    "dt_model = DecisionTreeClassifier(\n",
    "    max_depth=None,       \n",
    "    min_samples_split=2,  \n",
    "    random_state=42\n",
    ")\n",
    "\n",
    "dt_model.fit(X_train_encoded, y_train)\n",
    "\n",
    "\n",
    "y_pred_dt = dt_model.predict(X_test_encoded)"
   ]
  },
  {
   "cell_type": "markdown",
   "id": "67402901",
   "metadata": {},
   "source": [
    "### Random Forest Classifier"
   ]
  },
  {
   "cell_type": "code",
   "execution_count": 1720,
   "id": "a7840667",
   "metadata": {},
   "outputs": [],
   "source": [
    "rf_model = RandomForestClassifier(\n",
    "    n_estimators=200,     \n",
    "    max_depth=None,      \n",
    "    random_state=42,\n",
    "    n_jobs=-1               \n",
    ")\n",
    "rf_model.fit(X_train_encoded, y_train)\n",
    "y_pred_rfc = rf_model.predict(X_test_encoded)"
   ]
  },
  {
   "cell_type": "markdown",
   "id": "c957a277",
   "metadata": {},
   "source": [
    "### XGBoost Classifier"
   ]
  },
  {
   "cell_type": "code",
   "execution_count": 1721,
   "id": "72a32b43",
   "metadata": {},
   "outputs": [],
   "source": [
    "xgb_model = xgb.XGBClassifier(\n",
    "    n_estimators=200,    \n",
    "    max_depth=6,          \n",
    "    learning_rate=0.1,\n",
    "    subsample=0.8,\n",
    "    colsample_bytree=0.8,\n",
    "    missing=np.nan,      \n",
    "    eval_metric='logloss',\n",
    "    random_state=42\n",
    ")\n",
    "\n",
    "\n",
    "xgb_model.fit(X_train_encoded, y_train)\n",
    "\n",
    "\n",
    "y_pred_xgb = xgb_model.predict(X_test_encoded)"
   ]
  },
  {
   "cell_type": "markdown",
   "id": "aebb1330",
   "metadata": {},
   "source": [
    "# Accuracy Comparision"
   ]
  },
  {
   "cell_type": "code",
   "execution_count": 1722,
   "id": "be4d0540",
   "metadata": {},
   "outputs": [],
   "source": [
    "def acc(y_true, y_pred):\n",
    "    correct = sum(yt == yp for yt, yp in zip(y_true, y_pred))\n",
    "    return correct / len(y_true)\n"
   ]
  },
  {
   "cell_type": "code",
   "execution_count": 1723,
   "id": "97407b84",
   "metadata": {},
   "outputs": [],
   "source": [
    "def conf_mat(y_true, y_pred):\n",
    "    TP = sum((yt==1 and yp==1) for yt, yp in zip(y_true, y_pred))\n",
    "    TN = sum((yt==0 and yp==0) for yt, yp in zip(y_true, y_pred))\n",
    "    FP = sum((yt==0 and yp==1) for yt, yp in zip(y_true, y_pred))\n",
    "    FN = sum((yt==1 and yp==0) for yt, yp in zip(y_true, y_pred))\n",
    "    \n",
    "    return [[TN, FP],\n",
    "            [FN, TP]]\n"
   ]
  },
  {
   "cell_type": "code",
   "execution_count": 1724,
   "id": "f6a504a2",
   "metadata": {},
   "outputs": [],
   "source": [
    "def class_rep(y_true, y_pred):\n",
    "    cm = conf_mat(y_true, y_pred)\n",
    "    TN, FP = cm[0]\n",
    "    FN, TP = cm[1]\n",
    "    \n",
    "\n",
    "    precision_1 = TP / (TP + FP) if TP + FP != 0 else 0\n",
    "    recall_1 = TP / (TP + FN) if TP + FN != 0 else 0\n",
    "    f1_1 = 2 * precision_1 * recall_1 / (precision_1 + recall_1) if precision_1 + recall_1 != 0 else 0\n",
    "    \n",
    "    \n",
    "    precision_0 = TN / (TN + FN) if TN + FN != 0 else 0\n",
    "    recall_0 = TN / (TN + FP) if TN + FP != 0 else 0\n",
    "    f1_0 = 2 * precision_0 * recall_0 / (precision_0 + recall_0) if precision_0 + recall_0 != 0 else 0\n",
    "    \n",
    "    return {\n",
    "        0: {'precision': precision_0, 'recall': recall_0, 'f1': f1_0},\n",
    "        1: {'precision': precision_1, 'recall': recall_1, 'f1': f1_1}\n",
    "    }\n"
   ]
  },
  {
   "cell_type": "markdown",
   "id": "8682fe99",
   "metadata": {},
   "source": [
    "### Accuracy of Logistic Regression"
   ]
  },
  {
   "cell_type": "code",
   "execution_count": 1725,
   "id": "1869bfda",
   "metadata": {},
   "outputs": [
    {
     "name": "stdout",
     "output_type": "stream",
     "text": [
      "Accuracy: 0.5081723625557206\n",
      "\n",
      "Confusion Matrix:\n",
      "TN:256  FP:202\n",
      "FN:129  TP:86\n",
      "\n",
      "Classification Report:\n",
      "Class 0: {'precision': 0.6805194805194805, 'recall': 0.5634408602150538, 'f1': 0.6164705882352941}\n",
      "Class 1: {'precision': 0.2951388888888889, 'recall': 0.40865384615384615, 'f1': 0.34274193548387094}\n"
     ]
    }
   ],
   "source": [
    "acc_lr = acc(y_test_lin, y_pred_log)\n",
    "cm_lr = conf_mat(y_test_lin, y_pred_log)\n",
    "\n",
    "print(\"Accuracy:\", acc_lr)\n",
    "print(\"\\nConfusion Matrix:\")\n",
    "print(f\"TN:{cm_lr[0][0]}  FP:{cm_lr[0][1]}\\nFN:{cm_lr[1][0]}  TP:{cm_lr[1][1]}\")\n",
    "print(\"\\nClassification Report:\")\n",
    "\n",
    "metrics = class_rep(y_test, y_pred_log)\n",
    "print(\"Class 0:\", metrics[0])\n",
    "print(\"Class 1:\", metrics[1])"
   ]
  },
  {
   "cell_type": "markdown",
   "id": "ae18d8b2",
   "metadata": {},
   "source": [
    "### Accuracy of Random Forest"
   ]
  },
  {
   "cell_type": "code",
   "execution_count": 1726,
   "id": "2dcf53c9",
   "metadata": {},
   "outputs": [
    {
     "name": "stdout",
     "output_type": "stream",
     "text": [
      "Accuracy: 0.865\n",
      "\n",
      "Confusion Matrix:\n",
      "TN:1292  FP:115\n",
      "FN:155  TP:438\n",
      "\n",
      "Classification Report:\n",
      "Class 0: {'precision': 0.8928818244644091, 'recall': 0.9182658137882018, 'f1': 0.905395935529082}\n",
      "Class 1: {'precision': 0.7920433996383364, 'recall': 0.7386172006745363, 'f1': 0.7643979057591623}\n"
     ]
    }
   ],
   "source": [
    "acc_rf = acc(y_test, y_pred_rfc)\n",
    "cm_rf = conf_mat(y_test, y_pred_rfc)\n",
    "\n",
    "print(\"Accuracy:\", acc_rf)\n",
    "print(\"\\nConfusion Matrix:\")\n",
    "print(f\"TN:{cm_rf[0][0]}  FP:{cm_rf[0][1]}\\nFN:{cm_rf[1][0]}  TP:{cm_rf[1][1]}\")\n",
    "print(\"\\nClassification Report:\")\n",
    "\n",
    "metrics = class_rep(y_test, y_pred_rfc)\n",
    "print(\"Class 0:\", metrics[0])\n",
    "print(\"Class 1:\", metrics[1])"
   ]
  },
  {
   "cell_type": "markdown",
   "id": "cb249678",
   "metadata": {},
   "source": [
    "### Accuracy of Decision Tree"
   ]
  },
  {
   "cell_type": "code",
   "execution_count": 1727,
   "id": "14a36f53",
   "metadata": {},
   "outputs": [
    {
     "name": "stdout",
     "output_type": "stream",
     "text": [
      "Accuracy: 0.824\n",
      "\n",
      "Confusion Matrix:\n",
      "TN:1225  FP:182\n",
      "FN:170  TP:423\n",
      "\n",
      "Classification Report:\n",
      "Class 0: {'precision': 0.8781362007168458, 'recall': 0.8706467661691543, 'f1': 0.8743754461099216}\n",
      "Class 1: {'precision': 0.6991735537190082, 'recall': 0.7133220910623946, 'f1': 0.7061769616026712}\n"
     ]
    }
   ],
   "source": [
    "acc_dt = acc(y_test, y_pred_dt)\n",
    "cm_dt = conf_mat(y_test, y_pred_dt)\n",
    "\n",
    "print(\"Accuracy:\", acc_dt)\n",
    "print(\"\\nConfusion Matrix:\")\n",
    "print(f\"TN:{cm_dt[0][0]}  FP:{cm_dt[0][1]}\\nFN:{cm_dt[1][0]}  TP:{cm_dt[1][1]}\")\n",
    "print(\"\\nClassification Report:\")\n",
    "\n",
    "metrics = class_rep(y_test, y_pred_dt)\n",
    "print(\"Class 0:\", metrics[0])\n",
    "print(\"Class 1:\", metrics[1])"
   ]
  },
  {
   "cell_type": "markdown",
   "id": "479d98b7",
   "metadata": {},
   "source": [
    "### Accuracy of XGBoost Model"
   ]
  },
  {
   "cell_type": "code",
   "execution_count": 1728,
   "id": "3c4d5aec",
   "metadata": {},
   "outputs": [
    {
     "name": "stdout",
     "output_type": "stream",
     "text": [
      "Accuracy: 0.905\n",
      "\n",
      "Confusion Matrix:\n",
      "TN:1318  FP:89\n",
      "FN:101  TP:492\n",
      "\n",
      "Classification Report:\n",
      "Class 0: {'precision': 0.9288231148696265, 'recall': 0.9367448471926084, 'f1': 0.9327671620665251}\n",
      "Class 1: {'precision': 0.846815834767642, 'recall': 0.8296795952782462, 'f1': 0.838160136286201}\n"
     ]
    }
   ],
   "source": [
    "acc_xgb = acc(y_test, y_pred_xgb)\n",
    "cm_xgb = conf_mat(y_test, y_pred_xgb)\n",
    "\n",
    "print(\"Accuracy:\", acc_xgb)\n",
    "print(\"\\nConfusion Matrix:\")\n",
    "print(f\"TN:{cm_xgb[0][0]}  FP:{cm_xgb[0][1]}\\nFN:{cm_xgb[1][0]}  TP:{cm_xgb[1][1]}\")\n",
    "print(\"\\nClassification Report:\")\n",
    "\n",
    "metrics = class_rep(y_test, y_pred_xgb)\n",
    "print(\"Class 0:\", metrics[0])\n",
    "print(\"Class 1:\", metrics[1])"
   ]
  },
  {
   "cell_type": "code",
   "execution_count": 1729,
   "id": "ef0202ce",
   "metadata": {},
   "outputs": [
    {
     "data": {
      "image/png": "[encoded data removed]",
      "text/plain": [
       "<Figure size 1000x500 with 1 Axes>"
      ]
     },
     "metadata": {},
     "output_type": "display_data"
    }
   ],
   "source": [
    "models = ['Logistic Regression', 'Random Forest', 'Decision Tree', 'XGBoost']\n",
    "\n",
    "accuracies = [\n",
    "    acc(y_test_lin, y_pred_log),\n",
    "    acc(y_test, y_pred_rfc),\n",
    "    acc(y_test, y_pred_dt),\n",
    "    acc(y_test, y_pred_xgb)\n",
    "]\n",
    "plt.figure(figsize=(10,5))\n",
    "plt.bar(models, accuracies, color='skyblue')\n",
    "plt.title(\"Model Comparison: Accuracy\")\n",
    "plt.ylabel(\"Accuracy\")\n",
    "plt.ylim(0,1)\n",
    "plt.show()\n"
   ]
  },
  {
   "cell_type": "code",
   "execution_count": 1730,
   "id": "dee46c3c",
   "metadata": {},
   "outputs": [
    {
     "data": {
      "image/png": "[encoded data removed]",
      "text/plain": [
       "<Figure size 1000x500 with 1 Axes>"
      ]
     },
     "metadata": {},
     "output_type": "display_data"
    }
   ],
   "source": [
    "f1_scores = [\n",
    "    f1_score(y_test_lin, y_pred_log, average='weighted'),\n",
    "    f1_score(y_test, y_pred_rfc, average='weighted'),\n",
    "    f1_score(y_test, y_pred_dt, average='weighted'),\n",
    "    f1_score(y_test, y_pred_xgb, average='weighted')\n",
    "]\n",
    "\n",
    "plt.figure(figsize=(10,5))\n",
    "plt.bar(models, f1_scores, color='lightgreen')\n",
    "plt.title(\"Model Comparison: F1 Score\")\n",
    "plt.ylabel(\"F1 Score\")\n",
    "plt.ylim(0,1)\n",
    "plt.show()"
   ]
  },
  {
   "cell_type": "markdown",
   "id": "0f019724",
   "metadata": {},
   "source": [
    "# Important features "
   ]
  },
  {
   "cell_type": "code",
   "execution_count": 1731,
   "id": "c1cca906",
   "metadata": {},
   "outputs": [],
   "source": [
    "importances = xgb_model.feature_importances_\n"
   ]
  },
  {
   "cell_type": "code",
   "execution_count": 1732,
   "id": "31866d87",
   "metadata": {},
   "outputs": [
    {
     "name": "stdout",
     "output_type": "stream",
     "text": [
      "             Feature  Importance\n",
      "3          driverRef    0.261558\n",
      "2               laps    0.157439\n",
      "1               grid    0.133157\n",
      "4     constructorRef    0.126298\n",
      "6  fastestLapTime_ms    0.089462\n",
      "5          circuitId    0.081382\n",
      "7    fastestLapSpeed    0.080869\n",
      "0               year    0.069834\n"
     ]
    }
   ],
   "source": [
    "feature_importance_df = pd.DataFrame({\n",
    "    'Feature': X_train.columns,\n",
    "    'Importance': importances\n",
    "}).sort_values(by='Importance', ascending=False)\n",
    "\n",
    "print(feature_importance_df)\n"
   ]
  },
  {
   "cell_type": "code",
   "execution_count": 1733,
   "id": "7189ba38",
   "metadata": {},
   "outputs": [
    {
     "data": {
      "image/png": "[encoded data removed]",
      "text/plain": [
       "<Figure size 1000x600 with 1 Axes>"
      ]
     },
     "metadata": {},
     "output_type": "display_data"
    }
   ],
   "source": [
    "top_features = feature_importance_df\n",
    "\n",
    "plt.figure(figsize=(10,6))\n",
    "sns.barplot(x='Importance', y='Feature', data=top_features)\n",
    "plt.title('Feature Importances (XGBoost)')\n",
    "plt.tight_layout()\n",
    "plt.show()\n"
   ]
  }
 ],
 "metadata": {
  "kernelspec": {
   "display_name": "Python 3",
   "language": "python",
   "name": "python3"
  },
  "language_info": {
   "codemirror_mode": {
    "name": "ipython",
    "version": 3
   },
   "file_extension": ".py",
   "mimetype": "text/x-python",
   "name": "python",
   "nbconvert_exporter": "python",
   "pygments_lexer": "ipython3",
   "version": "3.11.9"
  }
 },
 "nbformat": 4,
 "nbformat_minor": 5
}

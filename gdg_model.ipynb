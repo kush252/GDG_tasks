{
 "cells": [
  {
   "cell_type": "code",
   "execution_count": null,
   "id": "f05e2cf9",
   "metadata": {},
   "outputs": [],
   "source": [
    "import pandas as pd \n",
    "import numpy as np\n",
    "import random\n",
    "\n",
    "from category_encoders import TargetEncoder\n",
    "from sklearn.preprocessing import StandardScaler\n",
    "from imblearn.over_sampling import SMOTE\n",
    "\n",
    "import xgboost as xgb\n",
    "from sklearn.ensemble import RandomForestClassifier\n",
    "from sklearn.tree import DecisionTreeClassifier\n",
    "from sklearn.linear_model import LogisticRegression\n",
    "\n",
    "\n",
    "import matplotlib.pyplot as plt\n",
    "import seaborn as sns\n",
    "from sklearn.metrics import f1_score\n",
    "\n",
    "import pickle"
   ]
  },
  {
   "cell_type": "code",
   "execution_count": 2067,
   "id": "d16ab209",
   "metadata": {},
   "outputs": [],
   "source": [
    "df=pd.read_csv(\"Proc_f1_data.csv\")"
   ]
  },
  {
   "cell_type": "code",
   "execution_count": 2100,
   "id": "54ba6845",
   "metadata": {},
   "outputs": [
    {
     "data": {
      "application/vnd.microsoft.datawrangler.viewer.v0+json": {
       "columns": [
        {
         "name": "index",
         "rawType": "int64",
         "type": "integer"
        },
        {
         "name": "resultId",
         "rawType": "int64",
         "type": "integer"
        },
        {
         "name": "raceId",
         "rawType": "int64",
         "type": "integer"
        },
        {
         "name": "year",
         "rawType": "int64",
         "type": "integer"
        },
        {
         "name": "round",
         "rawType": "int64",
         "type": "integer"
        },
        {
         "name": "grid",
         "rawType": "int64",
         "type": "integer"
        },
        {
         "name": "positionOrder",
         "rawType": "int64",
         "type": "integer"
        },
        {
         "name": "points",
         "rawType": "float64",
         "type": "float"
        },
        {
         "name": "laps",
         "rawType": "float64",
         "type": "float"
        },
        {
         "name": "milliseconds",
         "rawType": "float64",
         "type": "float"
        },
        {
         "name": "fastestLapTime",
         "rawType": "object",
         "type": "unknown"
        },
        {
         "name": "fastestLapSpeed",
         "rawType": "float64",
         "type": "float"
        },
        {
         "name": "driverRef",
         "rawType": "object",
         "type": "string"
        },
        {
         "name": "surname",
         "rawType": "object",
         "type": "string"
        },
        {
         "name": "forename",
         "rawType": "object",
         "type": "string"
        },
        {
         "name": "dob",
         "rawType": "object",
         "type": "string"
        },
        {
         "name": "nationality_x",
         "rawType": "object",
         "type": "string"
        },
        {
         "name": "constructorRef",
         "rawType": "object",
         "type": "string"
        },
        {
         "name": "name",
         "rawType": "object",
         "type": "string"
        },
        {
         "name": "nationality_y",
         "rawType": "object",
         "type": "string"
        },
        {
         "name": "circuitRef",
         "rawType": "object",
         "type": "string"
        },
        {
         "name": "circuitId",
         "rawType": "int64",
         "type": "integer"
        },
        {
         "name": "name_y",
         "rawType": "object",
         "type": "string"
        },
        {
         "name": "location",
         "rawType": "object",
         "type": "string"
        },
        {
         "name": "country",
         "rawType": "object",
         "type": "string"
        },
        {
         "name": "lat",
         "rawType": "float64",
         "type": "float"
        },
        {
         "name": "lng",
         "rawType": "float64",
         "type": "float"
        },
        {
         "name": "alt",
         "rawType": "int64",
         "type": "integer"
        },
        {
         "name": "date",
         "rawType": "object",
         "type": "string"
        },
        {
         "name": "target_finish",
         "rawType": "int64",
         "type": "integer"
        },
        {
         "name": "fastestLapTime_ms",
         "rawType": "float64",
         "type": "float"
        },
        {
         "name": "birth_year",
         "rawType": "int64",
         "type": "integer"
        },
        {
         "name": "age",
         "rawType": "int64",
         "type": "integer"
        }
       ],
       "ref": "25772031-1055-4399-ad8c-6e1d5d19dece",
       "rows": [
        [
         "0",
         "2460",
         "136",
         "2002",
         "13",
         "11",
         "4",
         "3.0",
         "77.0",
         null,
         null,
         null,
         "raikkonen",
         "Räikkönen",
         "Kimi",
         "1979-10-17",
         "Finnish",
         "mclaren",
         "Hungaroring",
         "British",
         "hungaroring",
         "11",
         "McLaren",
         "Budapest",
         "Hungary",
         "47.5789",
         "19.2486",
         "264",
         "2002-08-18",
         "1",
         null,
         "1979",
         "23"
        ],
        [
         "1",
         "11565",
         "483",
         "1981",
         "1",
         "23",
         "21",
         "0.0",
         "16.0",
         "0.0",
         null,
         null,
         "watson",
         "Watson",
         "John",
         "1946-05-04",
         "British",
         "mclaren",
         "Long Beach",
         "British",
         "long_beach",
         "43",
         "McLaren",
         "California",
         "USA",
         "33.7651",
         "-118.189",
         "12",
         "1981-03-15",
         "0",
         null,
         "1946",
         "35"
        ],
        [
         "2",
         "18661",
         "772",
         "1958",
         "8",
         "0",
         "26",
         "0.0",
         "0.0",
         "0.0",
         "0",
         "0.0",
         "ruttman",
         "Ruttman",
         "Troy",
         "1930-03-11",
         "American",
         "maserati",
         "Nürburgring",
         "Italian",
         "nurburgring",
         "20",
         "Maserati",
         "Nürburg",
         "Germany",
         "50.3356",
         "6.9475",
         "578",
         "1958-08-03",
         "0",
         "0.0",
         "1930",
         "28"
        ],
        [
         "3",
         "25121",
         "1058",
         "2021",
         "8",
         "19",
         "16",
         "0.0",
         "69.0",
         "0.0",
         "1:10.005",
         "222.052",
         "mick_schumacher",
         "Schumacher",
         "Mick",
         "1999-03-22",
         "German",
         "haas",
         "Red Bull Ring",
         "American",
         "red_bull_ring",
         "70",
         "Haas F1 Team",
         "Spielberg",
         "Austria",
         "47.2197",
         "14.7647",
         "678",
         "2021-06-27",
         "0",
         "70005.0",
         "1999",
         "22"
        ],
        [
         "4",
         "8863",
         "383",
         "1988",
         "12",
         "0",
         "30",
         "0.0",
         "0.0",
         "0.0",
         "0",
         "0.0",
         "modena",
         "Modena",
         "Stefano",
         "1963-05-12",
         "Italian",
         "eurobrun",
         "Autodromo Nazionale di Monza",
         "Italian",
         "monza",
         "14",
         "Euro Brun",
         "Monza",
         "Italy",
         "45.6156",
         "9.28111",
         "162",
         "1988-09-11",
         "0",
         "0.0",
         "1963",
         "25"
        ]
       ],
       "shape": {
        "columns": 32,
        "rows": 5
       }
      },
      "text/html": [
       "<div>\n",
       "<style scoped>\n",
       "    .dataframe tbody tr th:only-of-type {\n",
       "        vertical-align: middle;\n",
       "    }\n",
       "\n",
       "    .dataframe tbody tr th {\n",
       "        vertical-align: top;\n",
       "    }\n",
       "\n",
       "    .dataframe thead th {\n",
       "        text-align: right;\n",
       "    }\n",
       "</style>\n",
       "<table border=\"1\" class=\"dataframe\">\n",
       "  <thead>\n",
       "    <tr style=\"text-align: right;\">\n",
       "      <th></th>\n",
       "      <th>resultId</th>\n",
       "      <th>raceId</th>\n",
       "      <th>year</th>\n",
       "      <th>round</th>\n",
       "      <th>grid</th>\n",
       "      <th>positionOrder</th>\n",
       "      <th>points</th>\n",
       "      <th>laps</th>\n",
       "      <th>milliseconds</th>\n",
       "      <th>fastestLapTime</th>\n",
       "      <th>...</th>\n",
       "      <th>location</th>\n",
       "      <th>country</th>\n",
       "      <th>lat</th>\n",
       "      <th>lng</th>\n",
       "      <th>alt</th>\n",
       "      <th>date</th>\n",
       "      <th>target_finish</th>\n",
       "      <th>fastestLapTime_ms</th>\n",
       "      <th>birth_year</th>\n",
       "      <th>age</th>\n",
       "    </tr>\n",
       "  </thead>\n",
       "  <tbody>\n",
       "    <tr>\n",
       "      <th>0</th>\n",
       "      <td>2460</td>\n",
       "      <td>136</td>\n",
       "      <td>2002</td>\n",
       "      <td>13</td>\n",
       "      <td>11</td>\n",
       "      <td>4</td>\n",
       "      <td>3.0</td>\n",
       "      <td>77.0</td>\n",
       "      <td>NaN</td>\n",
       "      <td>NaN</td>\n",
       "      <td>...</td>\n",
       "      <td>Budapest</td>\n",
       "      <td>Hungary</td>\n",
       "      <td>47.5789</td>\n",
       "      <td>19.24860</td>\n",
       "      <td>264</td>\n",
       "      <td>2002-08-18</td>\n",
       "      <td>1</td>\n",
       "      <td>NaN</td>\n",
       "      <td>1979</td>\n",
       "      <td>23</td>\n",
       "    </tr>\n",
       "    <tr>\n",
       "      <th>1</th>\n",
       "      <td>11565</td>\n",
       "      <td>483</td>\n",
       "      <td>1981</td>\n",
       "      <td>1</td>\n",
       "      <td>23</td>\n",
       "      <td>21</td>\n",
       "      <td>0.0</td>\n",
       "      <td>16.0</td>\n",
       "      <td>0.0</td>\n",
       "      <td>NaN</td>\n",
       "      <td>...</td>\n",
       "      <td>California</td>\n",
       "      <td>USA</td>\n",
       "      <td>33.7651</td>\n",
       "      <td>-118.18900</td>\n",
       "      <td>12</td>\n",
       "      <td>1981-03-15</td>\n",
       "      <td>0</td>\n",
       "      <td>NaN</td>\n",
       "      <td>1946</td>\n",
       "      <td>35</td>\n",
       "    </tr>\n",
       "    <tr>\n",
       "      <th>2</th>\n",
       "      <td>18661</td>\n",
       "      <td>772</td>\n",
       "      <td>1958</td>\n",
       "      <td>8</td>\n",
       "      <td>0</td>\n",
       "      <td>26</td>\n",
       "      <td>0.0</td>\n",
       "      <td>0.0</td>\n",
       "      <td>0.0</td>\n",
       "      <td>0</td>\n",
       "      <td>...</td>\n",
       "      <td>Nürburg</td>\n",
       "      <td>Germany</td>\n",
       "      <td>50.3356</td>\n",
       "      <td>6.94750</td>\n",
       "      <td>578</td>\n",
       "      <td>1958-08-03</td>\n",
       "      <td>0</td>\n",
       "      <td>0.0</td>\n",
       "      <td>1930</td>\n",
       "      <td>28</td>\n",
       "    </tr>\n",
       "    <tr>\n",
       "      <th>3</th>\n",
       "      <td>25121</td>\n",
       "      <td>1058</td>\n",
       "      <td>2021</td>\n",
       "      <td>8</td>\n",
       "      <td>19</td>\n",
       "      <td>16</td>\n",
       "      <td>0.0</td>\n",
       "      <td>69.0</td>\n",
       "      <td>0.0</td>\n",
       "      <td>1:10.005</td>\n",
       "      <td>...</td>\n",
       "      <td>Spielberg</td>\n",
       "      <td>Austria</td>\n",
       "      <td>47.2197</td>\n",
       "      <td>14.76470</td>\n",
       "      <td>678</td>\n",
       "      <td>2021-06-27</td>\n",
       "      <td>0</td>\n",
       "      <td>70005.0</td>\n",
       "      <td>1999</td>\n",
       "      <td>22</td>\n",
       "    </tr>\n",
       "    <tr>\n",
       "      <th>4</th>\n",
       "      <td>8863</td>\n",
       "      <td>383</td>\n",
       "      <td>1988</td>\n",
       "      <td>12</td>\n",
       "      <td>0</td>\n",
       "      <td>30</td>\n",
       "      <td>0.0</td>\n",
       "      <td>0.0</td>\n",
       "      <td>0.0</td>\n",
       "      <td>0</td>\n",
       "      <td>...</td>\n",
       "      <td>Monza</td>\n",
       "      <td>Italy</td>\n",
       "      <td>45.6156</td>\n",
       "      <td>9.28111</td>\n",
       "      <td>162</td>\n",
       "      <td>1988-09-11</td>\n",
       "      <td>0</td>\n",
       "      <td>0.0</td>\n",
       "      <td>1963</td>\n",
       "      <td>25</td>\n",
       "    </tr>\n",
       "  </tbody>\n",
       "</table>\n",
       "<p>5 rows × 32 columns</p>\n",
       "</div>"
      ],
      "text/plain": [
       "   resultId  raceId  year  round  grid  positionOrder  points  laps  \\\n",
       "0      2460     136  2002     13    11              4     3.0  77.0   \n",
       "1     11565     483  1981      1    23             21     0.0  16.0   \n",
       "2     18661     772  1958      8     0             26     0.0   0.0   \n",
       "3     25121    1058  2021      8    19             16     0.0  69.0   \n",
       "4      8863     383  1988     12     0             30     0.0   0.0   \n",
       "\n",
       "   milliseconds fastestLapTime  ...    location  country      lat        lng  \\\n",
       "0           NaN            NaN  ...    Budapest  Hungary  47.5789   19.24860   \n",
       "1           0.0            NaN  ...  California      USA  33.7651 -118.18900   \n",
       "2           0.0              0  ...     Nürburg  Germany  50.3356    6.94750   \n",
       "3           0.0       1:10.005  ...   Spielberg  Austria  47.2197   14.76470   \n",
       "4           0.0              0  ...       Monza    Italy  45.6156    9.28111   \n",
       "\n",
       "   alt        date target_finish fastestLapTime_ms birth_year age  \n",
       "0  264  2002-08-18             1               NaN       1979  23  \n",
       "1   12  1981-03-15             0               NaN       1946  35  \n",
       "2  578  1958-08-03             0               0.0       1930  28  \n",
       "3  678  2021-06-27             0           70005.0       1999  22  \n",
       "4  162  1988-09-11             0               0.0       1963  25  \n",
       "\n",
       "[5 rows x 32 columns]"
      ]
     },
     "execution_count": 2100,
     "metadata": {},
     "output_type": "execute_result"
    }
   ],
   "source": [
    "df.head()"
   ]
  },
  {
   "cell_type": "code",
   "execution_count": 2069,
   "id": "f08d0af2",
   "metadata": {},
   "outputs": [],
   "source": [
    "df_imp=df[['year','age','grid','milliseconds','laps','points','positionOrder','fastestLapTime','fastestLapSpeed','fastestLapTime_ms','driverRef','constructorRef','circuitId','target_finish']]"
   ]
  },
  {
   "cell_type": "code",
   "execution_count": 2070,
   "id": "9b11b835",
   "metadata": {},
   "outputs": [
    {
     "name": "stdout",
     "output_type": "stream",
     "text": [
      "<class 'pandas.core.frame.DataFrame'>\n",
      "RangeIndex: 10000 entries, 0 to 9999\n",
      "Data columns (total 14 columns):\n",
      " #   Column             Non-Null Count  Dtype  \n",
      "---  ------             --------------  -----  \n",
      " 0   year               10000 non-null  int64  \n",
      " 1   age                10000 non-null  int64  \n",
      " 2   grid               10000 non-null  int64  \n",
      " 3   milliseconds       9710 non-null   float64\n",
      " 4   laps               9022 non-null   float64\n",
      " 5   points             9586 non-null   float64\n",
      " 6   positionOrder      10000 non-null  int64  \n",
      " 7   fastestLapTime     3919 non-null   object \n",
      " 8   fastestLapSpeed    3623 non-null   float64\n",
      " 9   fastestLapTime_ms  3919 non-null   float64\n",
      " 10  driverRef          10000 non-null  object \n",
      " 11  constructorRef     10000 non-null  object \n",
      " 12  circuitId          10000 non-null  int64  \n",
      " 13  target_finish      10000 non-null  int64  \n",
      "dtypes: float64(5), int64(6), object(3)\n",
      "memory usage: 1.1+ MB\n"
     ]
    }
   ],
   "source": [
    "df_imp.info()"
   ]
  },
  {
   "cell_type": "markdown",
   "id": "1a88337a",
   "metadata": {},
   "source": [
    "# Train Test Split"
   ]
  },
  {
   "cell_type": "code",
   "execution_count": 2071,
   "id": "8a707d92",
   "metadata": {},
   "outputs": [],
   "source": [
    "X=df_imp[['year','age','grid','driverRef','constructorRef','circuitId']]\n",
    "y=df_imp['target_finish']"
   ]
  },
  {
   "cell_type": "code",
   "execution_count": 2072,
   "id": "f8fd9908",
   "metadata": {},
   "outputs": [],
   "source": [
    "X_linear_regression=df_imp[['year','grid','driverRef','constructorRef','circuitId']]\n",
    "y_linear_regression=df_imp['target_finish']"
   ]
  },
  {
   "cell_type": "code",
   "execution_count": 2073,
   "id": "7fc81a8e",
   "metadata": {},
   "outputs": [],
   "source": [
    "def tr_te_split(X, y, test_size=0.2, random_state=42):\n",
    "    random.seed(random_state)\n",
    "    n = len(X)\n",
    "    test_count = int(n * test_size)\n",
    "\n",
    "    indices = list(range(n))\n",
    "    random.shuffle(indices)\n",
    "\n",
    "    test_indices = indices[:test_count]\n",
    "    train_indices = indices[test_count:]\n",
    "\n",
    "    X_train = X.iloc[train_indices].reset_index(drop=True)\n",
    "    X_test  = X.iloc[test_indices].reset_index(drop=True)\n",
    "    y_train = y.iloc[train_indices].reset_index(drop=True)\n",
    "    y_test  = y.iloc[test_indices].reset_index(drop=True)\n",
    "\n",
    "    return X_train, X_test, y_train, y_test\n"
   ]
  },
  {
   "cell_type": "code",
   "execution_count": 2074,
   "id": "cc137249",
   "metadata": {},
   "outputs": [],
   "source": [
    "X_train, X_test, y_train, y_test = tr_te_split(X, y, test_size=0.2, random_state=42)\n",
    "\n",
    "X_train_lin, X_test_lin, y_train_lin, y_test_lin = tr_te_split(X_linear_regression, y_linear_regression, test_size=0.2, random_state=42)\n"
   ]
  },
  {
   "cell_type": "markdown",
   "id": "18471e03",
   "metadata": {},
   "source": [
    "# Preprocessing"
   ]
  },
  {
   "cell_type": "markdown",
   "id": "63fd793f",
   "metadata": {},
   "source": [
    "### Target Encoding"
   ]
  },
  {
   "cell_type": "code",
   "execution_count": 2075,
   "id": "a8d3e5fe",
   "metadata": {},
   "outputs": [],
   "source": [
    "encoder = TargetEncoder(cols=['driverRef', 'constructorRef','circuitId'])\n",
    "X_train_encoded = encoder.fit_transform(X_train, y_train)\n",
    "X_test_encoded = encoder.transform(X_test)"
   ]
  },
  {
   "cell_type": "code",
   "execution_count": 2076,
   "id": "ad6fe198",
   "metadata": {},
   "outputs": [],
   "source": [
    "X_train_encoded = X_train_encoded.astype(float)\n",
    "X_test_encoded = X_test_encoded.astype(float)\n"
   ]
  },
  {
   "cell_type": "code",
   "execution_count": 2077,
   "id": "53a3a492",
   "metadata": {},
   "outputs": [],
   "source": [
    "driver_list = X_train['driverRef'].unique().tolist()\n",
    "constructor_list = X_train['constructorRef'].unique().tolist()\n",
    "\n",
    "pickle.dump({'drivers': driver_list, 'constructors': constructor_list}, open('lists.pkl', 'wb'))\n"
   ]
  },
  {
   "cell_type": "code",
   "execution_count": 2078,
   "id": "bd1d4865",
   "metadata": {},
   "outputs": [],
   "source": [
    "pickle.dump(encoder, open('encoder.pkl', 'wb'))"
   ]
  },
  {
   "cell_type": "markdown",
   "id": "f789292e",
   "metadata": {},
   "source": [
    "### Encoding for Linear_reg"
   ]
  },
  {
   "cell_type": "code",
   "execution_count": 2079,
   "id": "69ef1a8f",
   "metadata": {},
   "outputs": [
    {
     "name": "stdout",
     "output_type": "stream",
     "text": [
      "<class 'pandas.core.frame.DataFrame'>\n",
      "RangeIndex: 8000 entries, 0 to 7999\n",
      "Data columns (total 5 columns):\n",
      " #   Column          Non-Null Count  Dtype  \n",
      "---  ------          --------------  -----  \n",
      " 0   year            8000 non-null   float64\n",
      " 1   grid            8000 non-null   float64\n",
      " 2   driverRef       8000 non-null   float64\n",
      " 3   constructorRef  8000 non-null   float64\n",
      " 4   circuitId       8000 non-null   float64\n",
      "dtypes: float64(5)\n",
      "memory usage: 312.6 KB\n"
     ]
    }
   ],
   "source": [
    "encoder = TargetEncoder(cols=['driverRef', 'constructorRef','circuitId'])\n",
    "X_train_encoded_lin = encoder.fit_transform(X_train_lin, y_train_lin)\n",
    "X_test_encoded_lin = encoder.transform(X_test_lin)\n",
    "X_train_encoded_lin = X_train_encoded_lin.astype(float)\n",
    "X_test_encoded_lin = X_test_encoded_lin.astype(float)\n",
    "X_train_encoded_lin = X_train_encoded_lin.replace([None], np.nan)\n",
    "X_test_encoded_lin = X_test_encoded_lin.replace([None], np.nan)\n",
    "\n",
    "X_train_encoded_lin.info()"
   ]
  },
  {
   "cell_type": "markdown",
   "id": "838cf037",
   "metadata": {},
   "source": [
    "### Scaling for Linear_reg"
   ]
  },
  {
   "cell_type": "code",
   "execution_count": 2080,
   "id": "6e0548c9",
   "metadata": {},
   "outputs": [],
   "source": [
    "numerical_features = ['year', 'grid']\n",
    "\n",
    "scaler = StandardScaler()\n",
    "X_train_encoded_scaled_lin=X_train_encoded_lin\n",
    "X_test_encoded_scaled_lin=X_test_encoded_lin\n",
    "\n",
    "X_train_encoded_scaled_lin[numerical_features] = scaler.fit_transform(X_train_encoded_lin[numerical_features])\n",
    "X_test_encoded_scaled_lin[numerical_features] = scaler.transform(X_test_encoded_lin[numerical_features])"
   ]
  },
  {
   "cell_type": "markdown",
   "id": "965305b4",
   "metadata": {},
   "source": [
    "# Model Training"
   ]
  },
  {
   "cell_type": "markdown",
   "id": "674db11d",
   "metadata": {},
   "source": [
    "### Logistic Regression"
   ]
  },
  {
   "cell_type": "code",
   "execution_count": 2081,
   "id": "8a61cfe5",
   "metadata": {},
   "outputs": [
    {
     "data": {
      "application/vnd.microsoft.datawrangler.viewer.v0+json": {
       "columns": [
        {
         "name": "target_finish",
         "rawType": "int64",
         "type": "integer"
        },
        {
         "name": "proportion",
         "rawType": "float64",
         "type": "float"
        }
       ],
       "ref": "5f0e7fc8-042a-4774-ba3e-8b3abe9a2212",
       "rows": [
        [
         "0",
         "0.7105"
        ],
        [
         "1",
         "0.2895"
        ]
       ],
       "shape": {
        "columns": 1,
        "rows": 2
       }
      },
      "text/plain": [
       "target_finish\n",
       "0    0.7105\n",
       "1    0.2895\n",
       "Name: proportion, dtype: float64"
      ]
     },
     "execution_count": 2081,
     "metadata": {},
     "output_type": "execute_result"
    }
   ],
   "source": [
    "y.value_counts(normalize=True)\n"
   ]
  },
  {
   "cell_type": "code",
   "execution_count": 2082,
   "id": "96930ac4",
   "metadata": {},
   "outputs": [],
   "source": [
    "smote = SMOTE(random_state=42)\n",
    "X_train_encoded_lin_res, y_train_lin_res = smote.fit_resample(X_train_encoded_lin, y_train_lin)\n",
    "X_train_encoded_res, y_train_res = smote.fit_resample(X_train_encoded, y_train)\n"
   ]
  },
  {
   "cell_type": "code",
   "execution_count": 2083,
   "id": "ccf282f5",
   "metadata": {},
   "outputs": [],
   "source": [
    "log_model = LogisticRegression(max_iter=200,solver='lbfgs', random_state=42)\n",
    "log_model.fit(X_train_encoded_lin, y_train_lin)\n",
    "\n",
    "y_pred_log = log_model.predict(X_test_encoded_lin)"
   ]
  },
  {
   "cell_type": "markdown",
   "id": "7afb6820",
   "metadata": {},
   "source": [
    "### Decision Tree Classifier"
   ]
  },
  {
   "cell_type": "code",
   "execution_count": 2084,
   "id": "fce7e751",
   "metadata": {},
   "outputs": [],
   "source": [
    "dt_model = DecisionTreeClassifier(\n",
    "    max_depth=8,   \n",
    "    criterion=\"entropy\",    \n",
    "    min_samples_split=2,  \n",
    "    random_state=42\n",
    ")\n",
    "\n",
    "dt_model.fit(X_train_encoded, y_train)\n",
    "y_pred_dt = dt_model.predict(X_test_encoded)"
   ]
  },
  {
   "cell_type": "markdown",
   "id": "67402901",
   "metadata": {},
   "source": [
    "### Random Forest Classifier"
   ]
  },
  {
   "cell_type": "code",
   "execution_count": 2085,
   "id": "a7840667",
   "metadata": {},
   "outputs": [],
   "source": [
    "rf_model = RandomForestClassifier(\n",
    "    n_estimators=700,     \n",
    "    max_depth=5, \n",
    "    random_state=42,\n",
    "    n_jobs=-1               \n",
    ")\n",
    "rf_model.fit(X_train_encoded, y_train)\n",
    "y_pred_rfc = rf_model.predict(X_test_encoded)"
   ]
  },
  {
   "cell_type": "markdown",
   "id": "c957a277",
   "metadata": {},
   "source": [
    "### XGBoost Classifier"
   ]
  },
  {
   "cell_type": "code",
   "execution_count": 2086,
   "id": "72a32b43",
   "metadata": {},
   "outputs": [],
   "source": [
    "xgb_model = xgb.XGBClassifier(\n",
    "    n_estimators=700,    \n",
    "    max_depth=7,          \n",
    "    learning_rate=0.01,\n",
    "    subsample=0.8,\n",
    "    colsample_bytree=0.8,\n",
    "    missing=np.nan,      \n",
    "    eval_metric='logloss',\n",
    "    random_state=42\n",
    ")\n",
    "\n",
    "\n",
    "xgb_model.fit(X_train_encoded_res, y_train_res)\n",
    "y_pred_xgb = xgb_model.predict(X_test_encoded)"
   ]
  },
  {
   "cell_type": "markdown",
   "id": "aebb1330",
   "metadata": {},
   "source": [
    "# Accuracy Comparision"
   ]
  },
  {
   "cell_type": "code",
   "execution_count": 2087,
   "id": "be4d0540",
   "metadata": {},
   "outputs": [],
   "source": [
    "def acc(y_true, y_pred):\n",
    "    correct = sum(yt == yp for yt, yp in zip(y_true, y_pred))\n",
    "    return correct / len(y_true)\n"
   ]
  },
  {
   "cell_type": "code",
   "execution_count": 2088,
   "id": "97407b84",
   "metadata": {},
   "outputs": [],
   "source": [
    "def conf_mat(y_true, y_pred):\n",
    "    TP = sum((yt==1 and yp==1) for yt, yp in zip(y_true, y_pred))\n",
    "    TN = sum((yt==0 and yp==0) for yt, yp in zip(y_true, y_pred))\n",
    "    FP = sum((yt==0 and yp==1) for yt, yp in zip(y_true, y_pred))\n",
    "    FN = sum((yt==1 and yp==0) for yt, yp in zip(y_true, y_pred))\n",
    "    \n",
    "    return [[TN, FP],\n",
    "            [FN, TP]]\n"
   ]
  },
  {
   "cell_type": "code",
   "execution_count": 2089,
   "id": "f6a504a2",
   "metadata": {},
   "outputs": [],
   "source": [
    "def class_rep(y_true, y_pred):\n",
    "    cm = conf_mat(y_true, y_pred)\n",
    "    TN, FP = cm[0]\n",
    "    FN, TP = cm[1]\n",
    "    \n",
    "\n",
    "    precision_1 = TP / (TP + FP) if TP + FP != 0 else 0\n",
    "    recall_1 = TP / (TP + FN) if TP + FN != 0 else 0\n",
    "    f1_1 = 2 * precision_1 * recall_1 / (precision_1 + recall_1) if precision_1 + recall_1 != 0 else 0\n",
    "    \n",
    "    \n",
    "    precision_0 = TN / (TN + FN) if TN + FN != 0 else 0\n",
    "    recall_0 = TN / (TN + FP) if TN + FP != 0 else 0\n",
    "    f1_0 = 2 * precision_0 * recall_0 / (precision_0 + recall_0) if precision_0 + recall_0 != 0 else 0\n",
    "    \n",
    "    return {\n",
    "        0: {'precision': precision_0, 'recall': recall_0, 'f1': f1_0},\n",
    "        1: {'precision': precision_1, 'recall': recall_1, 'f1': f1_1}\n",
    "    }\n"
   ]
  },
  {
   "cell_type": "markdown",
   "id": "8682fe99",
   "metadata": {},
   "source": [
    "### Accuracy of Logistic Regression"
   ]
  },
  {
   "cell_type": "code",
   "execution_count": 2090,
   "id": "1869bfda",
   "metadata": {},
   "outputs": [
    {
     "name": "stdout",
     "output_type": "stream",
     "text": [
      "Accuracy: 0.7885\n",
      "\n",
      "Confusion Matrix:\n",
      "TN:1265  FP:142\n",
      "FN:281  TP:312\n",
      "\n",
      "Classification Report:\n",
      "Class 0: {'precision': 0.8182406209573092, 'recall': 0.8990760483297797, 'f1': 0.8567558415171013}\n",
      "Class 1: {'precision': 0.6872246696035242, 'recall': 0.5261382799325464, 'f1': 0.5959885386819485}\n"
     ]
    }
   ],
   "source": [
    "acc_lr = acc(y_test_lin, y_pred_log)\n",
    "cm_lr = conf_mat(y_test_lin, y_pred_log)\n",
    "\n",
    "print(\"Accuracy:\", acc_lr)\n",
    "print(\"\\nConfusion Matrix:\")\n",
    "print(f\"TN:{cm_lr[0][0]}  FP:{cm_lr[0][1]}\\nFN:{cm_lr[1][0]}  TP:{cm_lr[1][1]}\")\n",
    "print(\"\\nClassification Report:\")\n",
    "\n",
    "metrics = class_rep(y_test, y_pred_log)\n",
    "print(\"Class 0:\", metrics[0])\n",
    "print(\"Class 1:\", metrics[1])"
   ]
  },
  {
   "cell_type": "markdown",
   "id": "ae18d8b2",
   "metadata": {},
   "source": [
    "### Accuracy of Random Forest"
   ]
  },
  {
   "cell_type": "code",
   "execution_count": 2091,
   "id": "2dcf53c9",
   "metadata": {},
   "outputs": [
    {
     "name": "stdout",
     "output_type": "stream",
     "text": [
      "Accuracy: 0.805\n",
      "\n",
      "Confusion Matrix:\n",
      "TN:1275  FP:132\n",
      "FN:258  TP:335\n",
      "\n",
      "Classification Report:\n",
      "Class 0: {'precision': 0.8317025440313112, 'recall': 0.906183368869936, 'f1': 0.8673469387755102}\n",
      "Class 1: {'precision': 0.7173447537473233, 'recall': 0.5649241146711635, 'f1': 0.6320754716981132}\n"
     ]
    }
   ],
   "source": [
    "acc_rf = acc(y_test, y_pred_rfc)\n",
    "cm_rf = conf_mat(y_test, y_pred_rfc)\n",
    "\n",
    "print(\"Accuracy:\", acc_rf)\n",
    "print(\"\\nConfusion Matrix:\")\n",
    "print(f\"TN:{cm_rf[0][0]}  FP:{cm_rf[0][1]}\\nFN:{cm_rf[1][0]}  TP:{cm_rf[1][1]}\")\n",
    "print(\"\\nClassification Report:\")\n",
    "\n",
    "metrics = class_rep(y_test, y_pred_rfc)\n",
    "print(\"Class 0:\", metrics[0])\n",
    "print(\"Class 1:\", metrics[1])"
   ]
  },
  {
   "cell_type": "markdown",
   "id": "cb249678",
   "metadata": {},
   "source": [
    "### Accuracy of Decision Tree"
   ]
  },
  {
   "cell_type": "code",
   "execution_count": 2092,
   "id": "14a36f53",
   "metadata": {},
   "outputs": [
    {
     "name": "stdout",
     "output_type": "stream",
     "text": [
      "Accuracy: 0.792\n",
      "\n",
      "Confusion Matrix:\n",
      "TN:1226  FP:181\n",
      "FN:235  TP:358\n",
      "\n",
      "Classification Report:\n",
      "Class 0: {'precision': 0.839151266255989, 'recall': 0.8713574982231699, 'f1': 0.8549511854951185}\n",
      "Class 1: {'precision': 0.6641929499072357, 'recall': 0.6037099494097807, 'f1': 0.6325088339222615}\n"
     ]
    }
   ],
   "source": [
    "acc_dt = acc(y_test, y_pred_dt)\n",
    "cm_dt = conf_mat(y_test, y_pred_dt)\n",
    "\n",
    "print(\"Accuracy:\", acc_dt)\n",
    "print(\"\\nConfusion Matrix:\")\n",
    "print(f\"TN:{cm_dt[0][0]}  FP:{cm_dt[0][1]}\\nFN:{cm_dt[1][0]}  TP:{cm_dt[1][1]}\")\n",
    "print(\"\\nClassification Report:\")\n",
    "\n",
    "metrics = class_rep(y_test, y_pred_dt)\n",
    "print(\"Class 0:\", metrics[0])\n",
    "print(\"Class 1:\", metrics[1])"
   ]
  },
  {
   "cell_type": "markdown",
   "id": "479d98b7",
   "metadata": {},
   "source": [
    "### Accuracy of XGBoost Model"
   ]
  },
  {
   "cell_type": "code",
   "execution_count": 2093,
   "id": "3c4d5aec",
   "metadata": {},
   "outputs": [
    {
     "name": "stdout",
     "output_type": "stream",
     "text": [
      "Accuracy: 0.7965\n",
      "\n",
      "Confusion Matrix:\n",
      "TN:1170  FP:237\n",
      "FN:170  TP:423\n",
      "\n",
      "Classification Report:\n",
      "Class 0: {'precision': 0.8731343283582089, 'recall': 0.8315565031982942, 'f1': 0.8518383691299599}\n",
      "Class 1: {'precision': 0.6409090909090909, 'recall': 0.7133220910623946, 'f1': 0.6751795690343176}\n"
     ]
    }
   ],
   "source": [
    "acc_xgb = acc(y_test, y_pred_xgb)\n",
    "cm_xgb = conf_mat(y_test, y_pred_xgb)\n",
    "\n",
    "print(\"Accuracy:\", acc_xgb)\n",
    "print(\"\\nConfusion Matrix:\")\n",
    "print(f\"TN:{cm_xgb[0][0]}  FP:{cm_xgb[0][1]}\\nFN:{cm_xgb[1][0]}  TP:{cm_xgb[1][1]}\")\n",
    "print(\"\\nClassification Report:\")\n",
    "\n",
    "metrics = class_rep(y_test, y_pred_xgb)\n",
    "print(\"Class 0:\", metrics[0])\n",
    "print(\"Class 1:\", metrics[1])"
   ]
  },
  {
   "cell_type": "code",
   "execution_count": 2094,
   "id": "ef0202ce",
   "metadata": {},
   "outputs": [
    {
     "data": {
      "image/png": "[encoded data removed]",
      "text/plain": [
       "<Figure size 1000x500 with 1 Axes>"
      ]
     },
     "metadata": {},
     "output_type": "display_data"
    }
   ],
   "source": [
    "models = ['Logistic Regression', 'Random Forest', 'Decision Tree', 'XGBoost']\n",
    "\n",
    "accuracies = [\n",
    "    acc(y_test_lin, y_pred_log),\n",
    "    acc(y_test, y_pred_rfc),\n",
    "    acc(y_test, y_pred_dt),\n",
    "    acc(y_test, y_pred_xgb)\n",
    "]\n",
    "plt.figure(figsize=(10,5))\n",
    "plt.bar(models, accuracies, color='skyblue')\n",
    "plt.title(\"Model Comparison: Accuracy\")\n",
    "plt.ylabel(\"Accuracy\")\n",
    "plt.ylim(0,1)\n",
    "plt.show()\n"
   ]
  },
  {
   "cell_type": "code",
   "execution_count": 2095,
   "id": "dee46c3c",
   "metadata": {},
   "outputs": [
    {
     "data": {
      "image/png": "[encoded data removed]",
      "text/plain": [
       "<Figure size 1000x500 with 1 Axes>"
      ]
     },
     "metadata": {},
     "output_type": "display_data"
    }
   ],
   "source": [
    "f1_scores = [\n",
    "    f1_score(y_test_lin, y_pred_log, average='weighted'),\n",
    "    f1_score(y_test, y_pred_rfc, average='weighted'),\n",
    "    f1_score(y_test, y_pred_dt, average='weighted'),\n",
    "    f1_score(y_test, y_pred_xgb, average='weighted')\n",
    "]\n",
    "\n",
    "plt.figure(figsize=(10,5))\n",
    "plt.bar(models, f1_scores, color='lightgreen')\n",
    "plt.title(\"Model Comparison: F1 Score\")\n",
    "plt.ylabel(\"F1 Score\")\n",
    "plt.ylim(0,1)\n",
    "plt.show()"
   ]
  },
  {
   "cell_type": "markdown",
   "id": "c02a07d6",
   "metadata": {},
   "source": [
    "Based on the evaluation of Logistic Regression, Decision Tree, Random Forest, and XGBoost classifiers using accuracy, F1-score, recall, and confusion matrices, Random Forest emerged as the best-performing model. While the other models showed moderate performance, Random Forest effectively captured complex feature interactions and handled missing values, achieving near-perfect accuracy and F1-score. Therefore, it is the most suitable choice for predicting race outcomes on this dataset."
   ]
  },
  {
   "cell_type": "markdown",
   "id": "0f019724",
   "metadata": {},
   "source": [
    "# Important features "
   ]
  },
  {
   "cell_type": "code",
   "execution_count": 2096,
   "id": "c1cca906",
   "metadata": {},
   "outputs": [],
   "source": [
    "importances = rf_model.feature_importances_\n"
   ]
  },
  {
   "cell_type": "code",
   "execution_count": 2097,
   "id": "31866d87",
   "metadata": {},
   "outputs": [
    {
     "name": "stdout",
     "output_type": "stream",
     "text": [
      "          Feature  Importance\n",
      "3       driverRef    0.369750\n",
      "4  constructorRef    0.290890\n",
      "2            grid    0.196348\n",
      "0            year    0.096286\n",
      "5       circuitId    0.037770\n",
      "1             age    0.008956\n"
     ]
    }
   ],
   "source": [
    "feature_importance_df = pd.DataFrame({\n",
    "    'Feature': X_train.columns,\n",
    "    'Importance': importances\n",
    "}).sort_values(by='Importance', ascending=False)\n",
    "\n",
    "print(feature_importance_df)\n"
   ]
  },
  {
   "cell_type": "code",
   "execution_count": 2098,
   "id": "7189ba38",
   "metadata": {},
   "outputs": [
    {
     "data": {
      "image/png": "[encoded data removed]",
      "text/plain": [
       "<Figure size 1000x600 with 1 Axes>"
      ]
     },
     "metadata": {},
     "output_type": "display_data"
    }
   ],
   "source": [
    "top_features = feature_importance_df\n",
    "\n",
    "plt.figure(figsize=(10,6))\n",
    "sns.barplot(x='Importance', y='Feature', data=top_features)\n",
    "plt.title('Feature Importances (rfc_model)')\n",
    "plt.tight_layout()\n",
    "plt.show()\n"
   ]
  },
  {
   "cell_type": "code",
   "execution_count": 2099,
   "id": "a98dc8eb",
   "metadata": {},
   "outputs": [],
   "source": [
    "import pickle\n",
    "\n",
    "pickle.dump(rf_model, open('rfc_model.pkl', 'wb'))\n"
   ]
  },
  {
   "cell_type": "code",
   "execution_count": null,
   "id": "f47f5a74",
   "metadata": {},
   "outputs": [],
   "source": []
  }
 ],
 "metadata": {
  "kernelspec": {
   "display_name": "Python 3",
   "language": "python",
   "name": "python3"
  },
  "language_info": {
   "codemirror_mode": {
    "name": "ipython",
    "version": 3
   },
   "file_extension": ".py",
   "mimetype": "text/x-python",
   "name": "python",
   "nbconvert_exporter": "python",
   "pygments_lexer": "ipython3",
   "version": "3.11.9"
  }
 },
 "nbformat": 4,
 "nbformat_minor": 5
}
